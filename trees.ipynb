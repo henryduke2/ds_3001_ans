{
  "cells": [
    {
      "cell_type": "markdown",
      "metadata": {
        "id": "view-in-github",
        "colab_type": "text"
      },
      "source": [
        "<a href=\"https://colab.research.google.com/github/henryduke2/ds_3001_ans/blob/main/trees.ipynb\" target=\"_parent\"><img src=\"https://colab.research.google.com/assets/colab-badge.svg\" alt=\"Open In Colab\"/></a>"
      ]
    },
    {
      "cell_type": "markdown",
      "metadata": {
        "id": "s8mL_lRyzy4I"
      },
      "source": [
        "# Assignment: Trees\n",
        "Do three questions."
      ]
    },
    {
      "cell_type": "markdown",
      "metadata": {
        "id": "5c7N9rIazy4K"
      },
      "source": [
        "**Q1.** Please answer the following questions in your own words.\n",
        "\n",
        "1. How are trees constructed?\n",
        "\n",
        "Trees are constructed starting with the root or data. Then the data is split based on the best feature and threshold to split the data. Each split or branch is designed to minimize the prediction error. The splitting stops once it reaches a certain criteria and the final group is called the leaves which gives the prediction for the model.\n",
        "\n",
        "2. How do trees handle non-linear relationships between variables? Compare this to linear models.\n",
        "\n",
        "Trees use the feature thresholds to split the data up into subsets. With all of the these splits made the model is made to be complex with jagged boundaries. In contrast to linear models, which assume that there is a linear relationship between independent and depenedent variables.\n",
        "\n",
        "3. Why is the Gini a good loss function for categorical target variables?\n",
        "\n",
        "The Gini index works well for categorical variables because it provides a numerical index to how well split a group is. Therefore, it can provide a good loss function for when the Gini index is to high.\n",
        "\n",
        "4. Why do trees tend to overfit, and how can this tendency be constrained?\n",
        "\n",
        "Trees can overfit when there is a small data set or many features. This is because the trees are fit to reduce error even if this error is based on random noise. Therefore, it was the possibility to fit the training data too well. You can prune the tree using functions like max_depth, min_samples_leaf, min_samples_split.\n",
        "\n",
        "5. True or false, and explain: Trees only really perform well in situations with lots of categorical variables as features/covariates.\n",
        "\n",
        "False, trees work very well with numeric data and can create thresholds to split the continous data.\n",
        "\n",
        "6. Why don't most versions of classification/regression tree concept allow for more than two branches after a split?\n",
        "\n",
        "Multiple splits can lead to overfitting and makes for very messy trees. Binary splits allows the data to be cleaner and more interpretable.\n",
        "\n",
        "7. What are some heuristic ways you can examine a tree and decide whether it is probably over- or under-fitting?\n",
        "\n",
        "If a tree is over fitting, it would most likely contain very deep trees with lots of splits and high training accuracy but poor accuracy on the test set. On the other hand, with underfitting, trees would be very shallow and simplistic with overall low accuracy."
      ]
    },
    {
      "cell_type": "markdown",
      "metadata": {
        "id": "9LHvLOi0zy4L"
      },
      "source": [
        "**Q2.** This is a case study on regression and classification trees.\n",
        "\n",
        "1. Load `./data/cars_hw.csv`. How many observations and features/covariates/variables? What are the available variables? Take a look at the first few rows of data.\n",
        "\n",
        "2. For the categorical variables `Make`, `Color`, `Body_type`, `No_of_Owners`, `Fuel_Type`, `Transmission`, and `Transmission_Type`, create dummy/one-hot-encoded representations. For numeric variables, we'll use `Mileage_Run`, `Make_Year`, and `Seating_Capacity`. Our target variable will be `Price`. Make a train-test split of your data.\n",
        "\n",
        "3. From `sklearn.tree`, import the `DecisionTreeRegressor` and `plot_tree`. Use a train-test split to iterate over possible values for `min_samples_leaf`, computing the $R^2$ for each value between 1 and 25. What choice achieves the highest $R^2$ on the test data?\n",
        "\n",
        "4. For the optimal `min_samples_leaf` from 3, regress price on the rest of the features/covariates using the training data. What is your $R^2$ and RMSE on the test set? Plot the dendrogram. Plot the residuals. Is the density of residuals symmetric and centered around 0?\n",
        "\n",
        "4. Run a linear regression of price on the same variables. Which model -- regression tree or linear regression -- performs better on the test set? Why?\n",
        "\n",
        "5. Predict prices using both your tree and your linear model, and make a scatter plot of their values. Describe what you see."
      ]
    },
    {
      "cell_type": "markdown",
      "metadata": {
        "id": "sgsoKRMhzy4M"
      },
      "source": [
        "**Q3.** This is a case study about classification and regression trees.\n",
        "\n",
        "1. Load the `Breast Cancer METABRIC.csv` dataset. How many observations and variables does it contain? Print out the first few rows of data.\n",
        "\n",
        "2.  We'll use a consistent set of feature/explanatory variables. For numeric variables, we'll include `Tumor Size`, `Lymph nodes examined positive`, `Age at Diagnosis`. For categorical variables, we'll include `Tumor Stage`, `Chemotherapy`, and `Cancer Type Detailed`. One-hot-encode the categorical variables and concatenate them with the numeric variables into a feature/covariate matrix, $X$.\n",
        "\n",
        "3. Let's predict `Overall Survival Status` given the features/covariates $X$. There are 528 missing values, unfortunately: Either drop those rows from your data or add them as a category to predict. Constrain the minimum samples per leaf to 10. Print a dendrogram of the tree. Print a confusion matrix of the algorithm's performance. What is the accuracy?\n",
        "\n",
        "4. For your model in part three, compute three statistics:\n",
        "    - The **true positive rate** or **sensitivity**:\n",
        "        $$\n",
        "        TPR = \\dfrac{TP}{TP+FN}\n",
        "        $$\n",
        "    - The **true negative rate** or **specificity**:\n",
        "        $$\n",
        "        TNR = \\dfrac{TN}{TN+FP}\n",
        "        $$\n",
        "    Does your model tend to perform better with respect to one of these metrics?\n",
        "\n",
        "5. Let's predict `Overall Survival (Months)` given the features/covariates $X$. Use the train/test split to pick the optimal `min_samples_leaf` value that gives the highest $R^2$ on the test set (it's about 110). What is the $R^2$? Plot the test values against the predicted values. How do you feel about this model for clinical purposes?"
      ]
    },
    {
      "cell_type": "markdown",
      "metadata": {
        "id": "chwVyFnRzy4N"
      },
      "source": [
        "**Q4.** This is a case study about trees using bond rating data. This is a dataset about bond ratings for different companies, alongside a bunch of business statistics and other data. Companies often have multiple reviews at different dates. We want to predict the bond rating (AAA, AA, A, BBB, BB, B, ..., C, D). Do business fundamentals predict the company's rating?\n",
        "\n",
        "1. Load the `./data/corporate_ratings.csv` dataset. How many observations and variables does it contain? Print out the first few rows of data.\n",
        "\n",
        "2.  Plot a histogram of the `ratings` variable. It turns out that the gradations of AAA/AA/A and BBB/BB/B and so on make it hard to get good results with trees. Collapse all AAA/AA/A ratings into just A, and similarly for B and C.\n",
        "\n",
        "3. Use all of the variables **except** Rating, Date, Name, Symbol, and Rating Agency Name. To include Sector, make a dummy/one-hot-encoded representation and include it in your features/covariates. Collect the relevant variables into a data matrix $X$.\n",
        "\n",
        "4. Do a train/test split of the data and use a decision tree classifier to predict the bond rating. Including a min_samples_leaf constraint can raise the accuracy and speed up computation time. Print a confusion matrix and the accuracy of your model. How well do you predict the different bond ratings?\n",
        "\n",
        "5. If you include the rating agency as a feature/covariate/predictor variable, do the results change? How do you interpret this?"
      ]
    },
    {
      "cell_type": "markdown",
      "source": [
        "Question 1: Load the ./data/corporate_ratings.csv dataset. How many observations and variables does it contain? Print out the first few rows of data."
      ],
      "metadata": {
        "id": "ckFwi09XmAwC"
      }
    },
    {
      "cell_type": "code",
      "source": [
        "#Code help from gemini\n",
        "from google.colab import files\n",
        "uploaded = files.upload()\n",
        "\n",
        "import pandas as pd\n",
        "\n",
        "# Load the dataset\n",
        "df = pd.read_csv('corporate_ratings.csv')\n",
        "\n",
        "# Print the number of observations and variables\n",
        "print(\"Number of observations:\", df.shape[0])\n",
        "print(\"Number of variables:\", df.shape[1])\n",
        "\n",
        "# Print the first few rows of data\n",
        "print(df.head())\n"
      ],
      "metadata": {
        "colab": {
          "base_uri": "https://localhost:8080/",
          "height": 854
        },
        "id": "mar7PlramD3O",
        "outputId": "36ea0251-416f-408a-8317-84878652fd06"
      },
      "execution_count": null,
      "outputs": [
        {
          "output_type": "display_data",
          "data": {
            "text/plain": [
              "<IPython.core.display.HTML object>"
            ],
            "text/html": [
              "\n",
              "     <input type=\"file\" id=\"files-fb5e6617-7ae8-4755-af26-2f317f44352b\" name=\"files[]\" multiple disabled\n",
              "        style=\"border:none\" />\n",
              "     <output id=\"result-fb5e6617-7ae8-4755-af26-2f317f44352b\">\n",
              "      Upload widget is only available when the cell has been executed in the\n",
              "      current browser session. Please rerun this cell to enable.\n",
              "      </output>\n",
              "      <script>// Copyright 2017 Google LLC\n",
              "//\n",
              "// Licensed under the Apache License, Version 2.0 (the \"License\");\n",
              "// you may not use this file except in compliance with the License.\n",
              "// You may obtain a copy of the License at\n",
              "//\n",
              "//      http://www.apache.org/licenses/LICENSE-2.0\n",
              "//\n",
              "// Unless required by applicable law or agreed to in writing, software\n",
              "// distributed under the License is distributed on an \"AS IS\" BASIS,\n",
              "// WITHOUT WARRANTIES OR CONDITIONS OF ANY KIND, either express or implied.\n",
              "// See the License for the specific language governing permissions and\n",
              "// limitations under the License.\n",
              "\n",
              "/**\n",
              " * @fileoverview Helpers for google.colab Python module.\n",
              " */\n",
              "(function(scope) {\n",
              "function span(text, styleAttributes = {}) {\n",
              "  const element = document.createElement('span');\n",
              "  element.textContent = text;\n",
              "  for (const key of Object.keys(styleAttributes)) {\n",
              "    element.style[key] = styleAttributes[key];\n",
              "  }\n",
              "  return element;\n",
              "}\n",
              "\n",
              "// Max number of bytes which will be uploaded at a time.\n",
              "const MAX_PAYLOAD_SIZE = 100 * 1024;\n",
              "\n",
              "function _uploadFiles(inputId, outputId) {\n",
              "  const steps = uploadFilesStep(inputId, outputId);\n",
              "  const outputElement = document.getElementById(outputId);\n",
              "  // Cache steps on the outputElement to make it available for the next call\n",
              "  // to uploadFilesContinue from Python.\n",
              "  outputElement.steps = steps;\n",
              "\n",
              "  return _uploadFilesContinue(outputId);\n",
              "}\n",
              "\n",
              "// This is roughly an async generator (not supported in the browser yet),\n",
              "// where there are multiple asynchronous steps and the Python side is going\n",
              "// to poll for completion of each step.\n",
              "// This uses a Promise to block the python side on completion of each step,\n",
              "// then passes the result of the previous step as the input to the next step.\n",
              "function _uploadFilesContinue(outputId) {\n",
              "  const outputElement = document.getElementById(outputId);\n",
              "  const steps = outputElement.steps;\n",
              "\n",
              "  const next = steps.next(outputElement.lastPromiseValue);\n",
              "  return Promise.resolve(next.value.promise).then((value) => {\n",
              "    // Cache the last promise value to make it available to the next\n",
              "    // step of the generator.\n",
              "    outputElement.lastPromiseValue = value;\n",
              "    return next.value.response;\n",
              "  });\n",
              "}\n",
              "\n",
              "/**\n",
              " * Generator function which is called between each async step of the upload\n",
              " * process.\n",
              " * @param {string} inputId Element ID of the input file picker element.\n",
              " * @param {string} outputId Element ID of the output display.\n",
              " * @return {!Iterable<!Object>} Iterable of next steps.\n",
              " */\n",
              "function* uploadFilesStep(inputId, outputId) {\n",
              "  const inputElement = document.getElementById(inputId);\n",
              "  inputElement.disabled = false;\n",
              "\n",
              "  const outputElement = document.getElementById(outputId);\n",
              "  outputElement.innerHTML = '';\n",
              "\n",
              "  const pickedPromise = new Promise((resolve) => {\n",
              "    inputElement.addEventListener('change', (e) => {\n",
              "      resolve(e.target.files);\n",
              "    });\n",
              "  });\n",
              "\n",
              "  const cancel = document.createElement('button');\n",
              "  inputElement.parentElement.appendChild(cancel);\n",
              "  cancel.textContent = 'Cancel upload';\n",
              "  const cancelPromise = new Promise((resolve) => {\n",
              "    cancel.onclick = () => {\n",
              "      resolve(null);\n",
              "    };\n",
              "  });\n",
              "\n",
              "  // Wait for the user to pick the files.\n",
              "  const files = yield {\n",
              "    promise: Promise.race([pickedPromise, cancelPromise]),\n",
              "    response: {\n",
              "      action: 'starting',\n",
              "    }\n",
              "  };\n",
              "\n",
              "  cancel.remove();\n",
              "\n",
              "  // Disable the input element since further picks are not allowed.\n",
              "  inputElement.disabled = true;\n",
              "\n",
              "  if (!files) {\n",
              "    return {\n",
              "      response: {\n",
              "        action: 'complete',\n",
              "      }\n",
              "    };\n",
              "  }\n",
              "\n",
              "  for (const file of files) {\n",
              "    const li = document.createElement('li');\n",
              "    li.append(span(file.name, {fontWeight: 'bold'}));\n",
              "    li.append(span(\n",
              "        `(${file.type || 'n/a'}) - ${file.size} bytes, ` +\n",
              "        `last modified: ${\n",
              "            file.lastModifiedDate ? file.lastModifiedDate.toLocaleDateString() :\n",
              "                                    'n/a'} - `));\n",
              "    const percent = span('0% done');\n",
              "    li.appendChild(percent);\n",
              "\n",
              "    outputElement.appendChild(li);\n",
              "\n",
              "    const fileDataPromise = new Promise((resolve) => {\n",
              "      const reader = new FileReader();\n",
              "      reader.onload = (e) => {\n",
              "        resolve(e.target.result);\n",
              "      };\n",
              "      reader.readAsArrayBuffer(file);\n",
              "    });\n",
              "    // Wait for the data to be ready.\n",
              "    let fileData = yield {\n",
              "      promise: fileDataPromise,\n",
              "      response: {\n",
              "        action: 'continue',\n",
              "      }\n",
              "    };\n",
              "\n",
              "    // Use a chunked sending to avoid message size limits. See b/62115660.\n",
              "    let position = 0;\n",
              "    do {\n",
              "      const length = Math.min(fileData.byteLength - position, MAX_PAYLOAD_SIZE);\n",
              "      const chunk = new Uint8Array(fileData, position, length);\n",
              "      position += length;\n",
              "\n",
              "      const base64 = btoa(String.fromCharCode.apply(null, chunk));\n",
              "      yield {\n",
              "        response: {\n",
              "          action: 'append',\n",
              "          file: file.name,\n",
              "          data: base64,\n",
              "        },\n",
              "      };\n",
              "\n",
              "      let percentDone = fileData.byteLength === 0 ?\n",
              "          100 :\n",
              "          Math.round((position / fileData.byteLength) * 100);\n",
              "      percent.textContent = `${percentDone}% done`;\n",
              "\n",
              "    } while (position < fileData.byteLength);\n",
              "  }\n",
              "\n",
              "  // All done.\n",
              "  yield {\n",
              "    response: {\n",
              "      action: 'complete',\n",
              "    }\n",
              "  };\n",
              "}\n",
              "\n",
              "scope.google = scope.google || {};\n",
              "scope.google.colab = scope.google.colab || {};\n",
              "scope.google.colab._files = {\n",
              "  _uploadFiles,\n",
              "  _uploadFilesContinue,\n",
              "};\n",
              "})(self);\n",
              "</script> "
            ]
          },
          "metadata": {}
        },
        {
          "output_type": "stream",
          "name": "stdout",
          "text": [
            "Saving corporate_ratings.csv to corporate_ratings.csv\n",
            "Number of observations: 2029\n",
            "Number of variables: 31\n",
            "  Rating                   Name Symbol                  Rating Agency Name  \\\n",
            "0      A  Whirlpool Corporation    WHR          Egan-Jones Ratings Company   \n",
            "1    BBB  Whirlpool Corporation    WHR          Egan-Jones Ratings Company   \n",
            "2    BBB  Whirlpool Corporation    WHR                       Fitch Ratings   \n",
            "3    BBB  Whirlpool Corporation    WHR                       Fitch Ratings   \n",
            "4    BBB  Whirlpool Corporation    WHR  Standard & Poor's Ratings Services   \n",
            "\n",
            "         Date             Sector  currentRatio  quickRatio  cashRatio  \\\n",
            "0  11/27/2015  Consumer Durables      0.945894    0.426395   0.099690   \n",
            "1   2/13/2014  Consumer Durables      1.033559    0.498234   0.203120   \n",
            "2    3/6/2015  Consumer Durables      0.963703    0.451505   0.122099   \n",
            "3   6/15/2012  Consumer Durables      1.019851    0.510402   0.176116   \n",
            "4  10/24/2016  Consumer Durables      0.957844    0.495432   0.141608   \n",
            "\n",
            "   daysOfSalesOutstanding  ...  effectiveTaxRate  \\\n",
            "0               44.203245  ...          0.202716   \n",
            "1               38.991156  ...          0.074155   \n",
            "2               50.841385  ...          0.214529   \n",
            "3               41.161738  ...          1.816667   \n",
            "4               47.761126  ...          0.166966   \n",
            "\n",
            "   freeCashFlowOperatingCashFlowRatio  freeCashFlowPerShare  cashPerShare  \\\n",
            "0                            0.437551              6.810673      9.809403   \n",
            "1                            0.541997              8.625473     17.402270   \n",
            "2                            0.513185              9.693487     13.103448   \n",
            "3                           -0.147170             -1.015625     14.440104   \n",
            "4                            0.451372              7.135348     14.257556   \n",
            "\n",
            "   companyEquityMultiplier  ebitPerRevenue  enterpriseValueMultiple  \\\n",
            "0                 4.008012        0.049351                 7.057088   \n",
            "1                 3.156783        0.048857                 6.460618   \n",
            "2                 4.094575        0.044334                10.491970   \n",
            "3                 3.630950       -0.012858                 4.080741   \n",
            "4                 4.012780        0.053770                 8.293505   \n",
            "\n",
            "   operatingCashFlowPerShare  operatingCashFlowSalesRatio  payablesTurnover  \n",
            "0                  15.565438                     0.058638          3.906655  \n",
            "1                  15.914250                     0.067239          4.002846  \n",
            "2                  18.888889                     0.074426          3.483510  \n",
            "3                   6.901042                     0.028394          4.581150  \n",
            "4                  15.808147                     0.058065          3.857790  \n",
            "\n",
            "[5 rows x 31 columns]\n"
          ]
        }
      ]
    },
    {
      "cell_type": "markdown",
      "source": [
        "Question 2: Plot a histogram of the ratings variable. It turns out that the gradations of AAA/AA/A and BBB/BB/B and so on make it hard to get good results with trees. Collapse all AAA/AA/A ratings into just A, and similarly for B and C."
      ],
      "metadata": {
        "id": "8qrnuL9ymgRf"
      }
    },
    {
      "cell_type": "code",
      "source": [
        "#Code help from gemini\n",
        "\n",
        "import matplotlib.pyplot as plt\n",
        "\n",
        "# Collapse ratings\n",
        "df['Rating'] = df['Rating'].replace(['AAA', 'AA'], 'A')\n",
        "df['Rating'] = df['Rating'].replace(['BBB', 'BB'], 'B')\n",
        "df['Rating'] = df['Rating'].replace(['CCC', 'CC', 'C'], 'C')\n",
        "\n",
        "# Plot histogram\n",
        "plt.hist(df['Rating'], bins=10)  # Adjust the number of bins as needed\n",
        "plt.xlabel('Rating')\n",
        "plt.ylabel('Frequency')\n",
        "plt.title('Histogram of Bond Ratings')\n",
        "plt.show()\n"
      ],
      "metadata": {
        "colab": {
          "base_uri": "https://localhost:8080/",
          "height": 472
        },
        "id": "umzqqK13mmC4",
        "outputId": "35cbf12b-3066-405b-bf95-8d26b2a466a3"
      },
      "execution_count": null,
      "outputs": [
        {
          "output_type": "display_data",
          "data": {
            "text/plain": [
              "<Figure size 640x480 with 1 Axes>"
            ],
            "image/png": "[encoded data removed]"
          },
          "metadata": {}
        }
      ]
    },
    {
      "cell_type": "markdown",
      "source": [
        "Question 3: Use all of the variables except Rating, Date, Name, Symbol, and Rating Agency Name. To include Sector, make a dummy/one-hot-encoded representation and include it in your features/covariates. Collect the relevant variables into a data matrix  X ."
      ],
      "metadata": {
        "id": "w10qwqWZmlFF"
      }
    },
    {
      "cell_type": "code",
      "source": [
        "#Code help from gemini\n",
        "# Create dummy variables for the 'Sector' column\n",
        "sector_dummies = pd.get_dummies(df['Sector'], prefix='Sector')\n",
        "\n",
        "# Create the feature matrix X\n",
        "X = pd.concat([df.drop(['Rating', 'Date', 'Name', 'Symbol', 'Rating Agency Name', 'Sector'], axis=1), sector_dummies], axis=1)\n",
        "\n",
        "# Display the first few rows of X\n",
        "print(X.head())\n"
      ],
      "metadata": {
        "colab": {
          "base_uri": "https://localhost:8080/"
        },
        "id": "YMuGyS7WnLIc",
        "outputId": "ab6aa919-8cc8-4abf-8178-6381e2c13065"
      },
      "execution_count": null,
      "outputs": [
        {
          "output_type": "stream",
          "name": "stdout",
          "text": [
            "   currentRatio  quickRatio  cashRatio  daysOfSalesOutstanding  \\\n",
            "0      0.945894    0.426395   0.099690               44.203245   \n",
            "1      1.033559    0.498234   0.203120               38.991156   \n",
            "2      0.963703    0.451505   0.122099               50.841385   \n",
            "3      1.019851    0.510402   0.176116               41.161738   \n",
            "4      0.957844    0.495432   0.141608               47.761126   \n",
            "\n",
            "   netProfitMargin  pretaxProfitMargin  grossProfitMargin  \\\n",
            "0         0.037480            0.049351           0.176631   \n",
            "1         0.044062            0.048857           0.175715   \n",
            "2         0.032709            0.044334           0.170843   \n",
            "3         0.020894           -0.012858           0.138059   \n",
            "4         0.042861            0.053770           0.177720   \n",
            "\n",
            "   operatingProfitMargin  returnOnAssets  returnOnCapitalEmployed  ...  \\\n",
            "0               0.061510        0.041189                 0.091514  ...   \n",
            "1               0.066546        0.053204                 0.104800  ...   \n",
            "2               0.059783        0.032497                 0.075955  ...   \n",
            "3               0.042430        0.025690                -0.027015  ...   \n",
            "4               0.065354        0.046363                 0.096945  ...   \n",
            "\n",
            "   Sector_Consumer Durables  Sector_Consumer Non-Durables  \\\n",
            "0                      True                         False   \n",
            "1                      True                         False   \n",
            "2                      True                         False   \n",
            "3                      True                         False   \n",
            "4                      True                         False   \n",
            "\n",
            "   Sector_Consumer Services  Sector_Energy  Sector_Finance  \\\n",
            "0                     False          False           False   \n",
            "1                     False          False           False   \n",
            "2                     False          False           False   \n",
            "3                     False          False           False   \n",
            "4                     False          False           False   \n",
            "\n",
            "   Sector_Health Care  Sector_Miscellaneous  Sector_Public Utilities  \\\n",
            "0               False                 False                    False   \n",
            "1               False                 False                    False   \n",
            "2               False                 False                    False   \n",
            "3               False                 False                    False   \n",
            "4               False                 False                    False   \n",
            "\n",
            "   Sector_Technology  Sector_Transportation  \n",
            "0              False                  False  \n",
            "1              False                  False  \n",
            "2              False                  False  \n",
            "3              False                  False  \n",
            "4              False                  False  \n",
            "\n",
            "[5 rows x 37 columns]\n"
          ]
        }
      ]
    },
    {
      "cell_type": "markdown",
      "source": [
        "Question 4: Do a train/test split of the data and use a decision tree classifier to predict the bond rating. Including a min_samples_leaf constraint can raise the accuracy and speed up computation time. Print a confusion matrix and the accuracy of your model. How well do you predict the different bond ratings?"
      ],
      "metadata": {
        "id": "2Qu-fLZ1nS1z"
      }
    },
    {
      "cell_type": "code",
      "source": [
        "#Code help from gemini\n",
        "from sklearn.model_selection import train_test_split\n",
        "from sklearn.tree import DecisionTreeClassifier\n",
        "from sklearn.metrics import confusion_matrix, accuracy_score\n",
        "import numpy as np\n",
        "\n",
        "\n",
        "# Define target variable y\n",
        "y = df['Rating']\n",
        "\n",
        "# Handle missing values (replace with most frequent)\n",
        "for col in X.columns:\n",
        "    if X[col].isnull().any():\n",
        "        X[col] = X[col].fillna(X[col].mode()[0])\n",
        "\n",
        "# Convert to numeric if necessary\n",
        "for col in X.columns:\n",
        "    if not pd.api.types.is_numeric_dtype(X[col]):\n",
        "        try:\n",
        "            X[col] = pd.to_numeric(X[col])\n",
        "        except:\n",
        "            # Handle non-numeric data (e.g., one-hot encode if categorical)\n",
        "            pass\n",
        "\n",
        "\n",
        "# Split data\n",
        "X_train, X_test, y_train, y_test = train_test_split(X, y, test_size=0.2, random_state=42)\n",
        "\n",
        "# Initialize and train the decision tree classifier\n",
        "clf = DecisionTreeClassifier(min_samples_leaf=10) # Adjust min_samples_leaf as needed\n",
        "clf.fit(X_train, y_train)\n",
        "\n",
        "# Make predictions\n",
        "y_pred = clf.predict(X_test)\n",
        "\n",
        "# Evaluate the model\n",
        "cm = confusion_matrix(y_test, y_pred)\n",
        "accuracy = accuracy_score(y_test, y_pred)\n",
        "\n",
        "print(\"Confusion Matrix:\\n\", cm)\n",
        "print(\"Accuracy:\", accuracy)\n",
        "\n",
        "\n",
        "\n"
      ],
      "metadata": {
        "colab": {
          "base_uri": "https://localhost:8080/"
        },
        "id": "WiMAgNFcnd2c",
        "outputId": "bd9b41b6-edd6-457d-896f-e5b093975825"
      },
      "execution_count": null,
      "outputs": [
        {
          "output_type": "stream",
          "name": "stdout",
          "text": [
            "Confusion Matrix:\n",
            " [[ 47  49   0   0]\n",
            " [ 58 228   8   0]\n",
            " [  1  11   3   0]\n",
            " [  1   0   0   0]]\n",
            "Accuracy: 0.6847290640394089\n"
          ]
        }
      ]
    },
    {
      "cell_type": "code",
      "source": [
        "# Question 5: If you include the rating agency as a feature/covariate/predictor variable, do the results change? How do you interpret this?\n",
        "#Code help from gemini\n",
        "# Create dummy variables for the 'Rating Agency Name' column\n",
        "rating_agency_dummies = pd.get_dummies(df['Rating Agency Name'], prefix='Agency')\n",
        "\n",
        "# Concatenate rating agency dummies with existing features\n",
        "X_with_agency = pd.concat([X, rating_agency_dummies], axis=1)\n",
        "\n",
        "# Handle missing values (replace with most frequent)\n",
        "for col in X_with_agency.columns:\n",
        "    if X_with_agency[col].isnull().any():\n",
        "        X_with_agency[col] = X_with_agency[col].fillna(X_with_agency[col].mode()[0])\n",
        "\n",
        "# Convert to numeric if necessary\n",
        "for col in X_with_agency.columns:\n",
        "    if not pd.api.types.is_numeric_dtype(X_with_agency[col]):\n",
        "        try:\n",
        "            X_with_agency[col] = pd.to_numeric(X_with_agency[col])\n",
        "        except:\n",
        "            # Handle non-numeric data (e.g., one-hot encode if categorical)\n",
        "            pass\n",
        "\n",
        "# Split data with rating agency included\n",
        "X_train_agency, X_test_agency, y_train_agency, y_test_agency = train_test_split(X_with_agency, y, test_size=0.2, random_state=42)\n",
        "\n",
        "# Train the decision tree classifier with rating agency\n",
        "clf_agency = DecisionTreeClassifier(min_samples_leaf=10) # Adjust min_samples_leaf as needed\n",
        "clf_agency.fit(X_train_agency, y_train_agency)\n",
        "\n",
        "# Make predictions\n",
        "y_pred_agency = clf_agency.predict(X_test_agency)\n",
        "\n",
        "\n",
        "# Evaluate the model\n",
        "cm_agency = confusion_matrix(y_test_agency, y_pred_agency)\n",
        "accuracy_agency = accuracy_score(y_test_agency, y_pred_agency)\n",
        "\n",
        "print(\"Confusion Matrix with Rating Agency:\\n\", cm_agency)\n",
        "print(\"Accuracy with Rating Agency:\", accuracy_agency)\n",
        "\n",
        "# Interpretation\n",
        "print(\"\\nInterpretation:\")\n",
        "if accuracy_agency > accuracy:\n",
        "    print(\"Including the rating agency as a feature improved the model's accuracy. This suggests that the rating agency's assessment influences bond ratings, and the model is able to learn this relationship.\")\n",
        "elif accuracy_agency < accuracy:\n",
        "    print(\"Including the rating agency as a feature decreased the model's accuracy. This might indicate that the rating agency information is either redundant, or introduce noise to the model.\")\n",
        "else:\n",
        "    print(\"Including the rating agency did not significantly change the model's accuracy.\")\n"
      ],
      "metadata": {
        "colab": {
          "base_uri": "https://localhost:8080/"
        },
        "id": "ybS5Eo2doPoc",
        "outputId": "0b7230e2-8aab-4de3-e524-a74345c3cac1"
      },
      "execution_count": null,
      "outputs": [
        {
          "output_type": "stream",
          "name": "stdout",
          "text": [
            "Confusion Matrix with Rating Agency:\n",
            " [[ 55  41   0   0]\n",
            " [ 33 254   7   0]\n",
            " [  0  15   0   0]\n",
            " [  0   1   0   0]]\n",
            "Accuracy with Rating Agency: 0.7610837438423645\n",
            "\n",
            "Interpretation:\n",
            "Including the rating agency as a feature improved the model's accuracy. This suggests that the rating agency's assessment influences bond ratings, and the model is able to learn this relationship.\n"
          ]
        }
      ]
    },
    {
      "cell_type": "markdown",
      "metadata": {
        "id": "C23sZOTtzy4N"
      },
      "source": [
        "**Q5.** This is a case study about detecting fraud using classification trees. The goal is to predict the `class` variable, which is 0 for non-fraud and 1 for fraud.\n",
        "\n",
        "1. Open `./data/creditcard_fraud.csv`. Print the number of observations and variables, and look at the first few rows of data. The variables are already normalized and de-identified, and are just called things like `V8` to protect the privacy of the clients.\n",
        "\n",
        "2. Print a table of counts for the `class` variable and make a histogram. What percentage of transactions are fraudulent?\n",
        "\n",
        "3. Drop `Time` and make a decision tree classifier to predict fraud. Print a confusion table and compute the accuracy. This is a serious **class imbalance** problem: The minority class is so small that essentially predicting 0's for all cases will achieve an extremely high accuracy. There are over-sampling techniques to deal with this issue, but we don't have time to cover them in class.\n",
        "\n",
        "4. Imagine that you block every transaction in the test set labelled as fraudulent. How much money is (1) saved that should be saved, (2) lost to fraud anyway, (3) withheld in error from customers? Does implementing this anti-fraud system seem like a good idea, or not? Why?\n",
        "\n",
        "5. Instead of predicting fraud, predict loss: Multiple the `Class` variable times the `Amount` variable, and call it `Loss`. Predict it using a decision tree regressor (making sure to drop Class, Time, and Loss from the features/covariates/predictors). What $R^2$ and RMSE do you get? Make a scatterplot of the predicted values on the test group versus the actual test values. Do you notice any interesting patterns? How could you use this algorithm to decide which transactions to block, and why?\n"
      ]
    },
    {
      "cell_type": "markdown",
      "source": [
        "Question 1: Open ./data/creditcard_fraud.csv. Print the number of observations and variables, and look at the first few rows of data. The variables are already normalized and de-identified, and are just called things like V8 to protect the privacy of the clients."
      ],
      "metadata": {
        "id": "NKQWhdvqEWhj"
      }
    },
    {
      "cell_type": "code",
      "source": [
        "#Code help from gemini\n",
        "import pandas as pd\n",
        "\n",
        "# Upload the file from your local machine to the Colab environment\n",
        "from google.colab import files\n",
        "uploaded = files.upload()\n",
        "\n",
        "file_name = 'creditcard_fraud_0.parquet'\n",
        "\n",
        "\n",
        "try:\n",
        "  df = pd.read_parquet(file_name)\n",
        "\n",
        "  # Number of observations and variables\n",
        "  n_observations = df.shape[0]\n",
        "  n_variables = df.shape[1]\n",
        "  print(f\"Number of observations: {n_observations}\")\n",
        "  print(f\"Number of variables: {n_variables}\")\n",
        "\n",
        "  # First few rows of data\n",
        "  print(\"\\nFirst few rows of data:\")\n",
        "  print(df.head())\n",
        "except FileNotFoundError:\n",
        "    print(f\"Error: File '{file_name}' not found. Please upload the correct file.\")\n",
        "except Exception as e:\n",
        "    print(f\"An error occurred: {e}\")\n"
      ],
      "metadata": {
        "colab": {
          "base_uri": "https://localhost:8080/",
          "height": 524
        },
        "id": "xwJNCyh6EbC7",
        "outputId": "8bd85ff2-60b4-43ea-9490-2d96b8f2d15c"
      },
      "execution_count": null,
      "outputs": [
        {
          "output_type": "display_data",
          "data": {
            "text/plain": [
              "<IPython.core.display.HTML object>"
            ],
            "text/html": [
              "\n",
              "     <input type=\"file\" id=\"files-4c6cf124-feb4-4212-8da9-294bb9b5ec8c\" name=\"files[]\" multiple disabled\n",
              "        style=\"border:none\" />\n",
              "     <output id=\"result-4c6cf124-feb4-4212-8da9-294bb9b5ec8c\">\n",
              "      Upload widget is only available when the cell has been executed in the\n",
              "      current browser session. Please rerun this cell to enable.\n",
              "      </output>\n",
              "      <script>// Copyright 2017 Google LLC\n",
              "//\n",
              "// Licensed under the Apache License, Version 2.0 (the \"License\");\n",
              "// you may not use this file except in compliance with the License.\n",
              "// You may obtain a copy of the License at\n",
              "//\n",
              "//      http://www.apache.org/licenses/LICENSE-2.0\n",
              "//\n",
              "// Unless required by applicable law or agreed to in writing, software\n",
              "// distributed under the License is distributed on an \"AS IS\" BASIS,\n",
              "// WITHOUT WARRANTIES OR CONDITIONS OF ANY KIND, either express or implied.\n",
              "// See the License for the specific language governing permissions and\n",
              "// limitations under the License.\n",
              "\n",
              "/**\n",
              " * @fileoverview Helpers for google.colab Python module.\n",
              " */\n",
              "(function(scope) {\n",
              "function span(text, styleAttributes = {}) {\n",
              "  const element = document.createElement('span');\n",
              "  element.textContent = text;\n",
              "  for (const key of Object.keys(styleAttributes)) {\n",
              "    element.style[key] = styleAttributes[key];\n",
              "  }\n",
              "  return element;\n",
              "}\n",
              "\n",
              "// Max number of bytes which will be uploaded at a time.\n",
              "const MAX_PAYLOAD_SIZE = 100 * 1024;\n",
              "\n",
              "function _uploadFiles(inputId, outputId) {\n",
              "  const steps = uploadFilesStep(inputId, outputId);\n",
              "  const outputElement = document.getElementById(outputId);\n",
              "  // Cache steps on the outputElement to make it available for the next call\n",
              "  // to uploadFilesContinue from Python.\n",
              "  outputElement.steps = steps;\n",
              "\n",
              "  return _uploadFilesContinue(outputId);\n",
              "}\n",
              "\n",
              "// This is roughly an async generator (not supported in the browser yet),\n",
              "// where there are multiple asynchronous steps and the Python side is going\n",
              "// to poll for completion of each step.\n",
              "// This uses a Promise to block the python side on completion of each step,\n",
              "// then passes the result of the previous step as the input to the next step.\n",
              "function _uploadFilesContinue(outputId) {\n",
              "  const outputElement = document.getElementById(outputId);\n",
              "  const steps = outputElement.steps;\n",
              "\n",
              "  const next = steps.next(outputElement.lastPromiseValue);\n",
              "  return Promise.resolve(next.value.promise).then((value) => {\n",
              "    // Cache the last promise value to make it available to the next\n",
              "    // step of the generator.\n",
              "    outputElement.lastPromiseValue = value;\n",
              "    return next.value.response;\n",
              "  });\n",
              "}\n",
              "\n",
              "/**\n",
              " * Generator function which is called between each async step of the upload\n",
              " * process.\n",
              " * @param {string} inputId Element ID of the input file picker element.\n",
              " * @param {string} outputId Element ID of the output display.\n",
              " * @return {!Iterable<!Object>} Iterable of next steps.\n",
              " */\n",
              "function* uploadFilesStep(inputId, outputId) {\n",
              "  const inputElement = document.getElementById(inputId);\n",
              "  inputElement.disabled = false;\n",
              "\n",
              "  const outputElement = document.getElementById(outputId);\n",
              "  outputElement.innerHTML = '';\n",
              "\n",
              "  const pickedPromise = new Promise((resolve) => {\n",
              "    inputElement.addEventListener('change', (e) => {\n",
              "      resolve(e.target.files);\n",
              "    });\n",
              "  });\n",
              "\n",
              "  const cancel = document.createElement('button');\n",
              "  inputElement.parentElement.appendChild(cancel);\n",
              "  cancel.textContent = 'Cancel upload';\n",
              "  const cancelPromise = new Promise((resolve) => {\n",
              "    cancel.onclick = () => {\n",
              "      resolve(null);\n",
              "    };\n",
              "  });\n",
              "\n",
              "  // Wait for the user to pick the files.\n",
              "  const files = yield {\n",
              "    promise: Promise.race([pickedPromise, cancelPromise]),\n",
              "    response: {\n",
              "      action: 'starting',\n",
              "    }\n",
              "  };\n",
              "\n",
              "  cancel.remove();\n",
              "\n",
              "  // Disable the input element since further picks are not allowed.\n",
              "  inputElement.disabled = true;\n",
              "\n",
              "  if (!files) {\n",
              "    return {\n",
              "      response: {\n",
              "        action: 'complete',\n",
              "      }\n",
              "    };\n",
              "  }\n",
              "\n",
              "  for (const file of files) {\n",
              "    const li = document.createElement('li');\n",
              "    li.append(span(file.name, {fontWeight: 'bold'}));\n",
              "    li.append(span(\n",
              "        `(${file.type || 'n/a'}) - ${file.size} bytes, ` +\n",
              "        `last modified: ${\n",
              "            file.lastModifiedDate ? file.lastModifiedDate.toLocaleDateString() :\n",
              "                                    'n/a'} - `));\n",
              "    const percent = span('0% done');\n",
              "    li.appendChild(percent);\n",
              "\n",
              "    outputElement.appendChild(li);\n",
              "\n",
              "    const fileDataPromise = new Promise((resolve) => {\n",
              "      const reader = new FileReader();\n",
              "      reader.onload = (e) => {\n",
              "        resolve(e.target.result);\n",
              "      };\n",
              "      reader.readAsArrayBuffer(file);\n",
              "    });\n",
              "    // Wait for the data to be ready.\n",
              "    let fileData = yield {\n",
              "      promise: fileDataPromise,\n",
              "      response: {\n",
              "        action: 'continue',\n",
              "      }\n",
              "    };\n",
              "\n",
              "    // Use a chunked sending to avoid message size limits. See b/62115660.\n",
              "    let position = 0;\n",
              "    do {\n",
              "      const length = Math.min(fileData.byteLength - position, MAX_PAYLOAD_SIZE);\n",
              "      const chunk = new Uint8Array(fileData, position, length);\n",
              "      position += length;\n",
              "\n",
              "      const base64 = btoa(String.fromCharCode.apply(null, chunk));\n",
              "      yield {\n",
              "        response: {\n",
              "          action: 'append',\n",
              "          file: file.name,\n",
              "          data: base64,\n",
              "        },\n",
              "      };\n",
              "\n",
              "      let percentDone = fileData.byteLength === 0 ?\n",
              "          100 :\n",
              "          Math.round((position / fileData.byteLength) * 100);\n",
              "      percent.textContent = `${percentDone}% done`;\n",
              "\n",
              "    } while (position < fileData.byteLength);\n",
              "  }\n",
              "\n",
              "  // All done.\n",
              "  yield {\n",
              "    response: {\n",
              "      action: 'complete',\n",
              "    }\n",
              "  };\n",
              "}\n",
              "\n",
              "scope.google = scope.google || {};\n",
              "scope.google.colab = scope.google.colab || {};\n",
              "scope.google.colab._files = {\n",
              "  _uploadFiles,\n",
              "  _uploadFilesContinue,\n",
              "};\n",
              "})(self);\n",
              "</script> "
            ]
          },
          "metadata": {}
        },
        {
          "output_type": "stream",
          "name": "stdout",
          "text": [
            "Saving creditcard_fraud_0.parquet to creditcard_fraud_0.parquet\n",
            "Number of observations: 10000\n",
            "Number of variables: 31\n",
            "\n",
            "First few rows of data:\n",
            "   Time        V1        V2        V3        V4        V5        V6        V7  \\\n",
            "0     0 -1.359807 -0.072781  2.536347  1.378155 -0.338321  0.462388  0.239599   \n",
            "1     0  1.191857  0.266151  0.166480  0.448154  0.060018 -0.082361 -0.078803   \n",
            "2     1 -1.358354 -1.340163  1.773209  0.379780 -0.503198  1.800499  0.791461   \n",
            "3     1 -0.966272 -0.185226  1.792993 -0.863291 -0.010309  1.247203  0.237609   \n",
            "4     2 -1.158233  0.877737  1.548718  0.403034 -0.407193  0.095921  0.592941   \n",
            "\n",
            "         V8        V9  ...       V21       V22       V23       V24       V25  \\\n",
            "0  0.098698  0.363787  ... -0.018307  0.277838 -0.110474  0.066928  0.128539   \n",
            "1  0.085102 -0.255425  ... -0.225775 -0.638672  0.101288 -0.339846  0.167170   \n",
            "2  0.247676 -1.514654  ...  0.247998  0.771679  0.909412 -0.689281 -0.327642   \n",
            "3  0.377436 -1.387024  ... -0.108300  0.005274 -0.190321 -1.175575  0.647376   \n",
            "4 -0.270533  0.817739  ... -0.009431  0.798278 -0.137458  0.141267 -0.206010   \n",
            "\n",
            "        V26       V27       V28  Amount  Class  \n",
            "0 -0.189115  0.133558 -0.021053  149.62      0  \n",
            "1  0.125895 -0.008983  0.014724    2.69      0  \n",
            "2 -0.139097 -0.055353 -0.059752  378.66      0  \n",
            "3 -0.221929  0.062723  0.061458  123.50      0  \n",
            "4  0.502292  0.219422  0.215153   69.99      0  \n",
            "\n",
            "[5 rows x 31 columns]\n"
          ]
        }
      ]
    },
    {
      "cell_type": "markdown",
      "source": [
        "Question 2: Print a table of counts for the class variable and make a histogram. What percentage of transactions are fraudulent?"
      ],
      "metadata": {
        "id": "sPNVDl2HFrR5"
      }
    },
    {
      "cell_type": "code",
      "source": [
        "#Code help from gemini\n",
        "import pandas as pd\n",
        "import matplotlib.pyplot as plt\n",
        "class_counts = df['Class'].value_counts()\n",
        "print(\"\\nTable of counts for the 'Class' variable:\")\n",
        "print(class_counts)\n",
        "\n",
        "plt.figure(figsize=(8, 6))\n",
        "plt.bar(class_counts.index, class_counts.values)\n",
        "plt.xlabel(\"Class\")\n",
        "plt.ylabel(\"Count\")\n",
        "plt.title(\"Histogram of Transaction Classes\")\n",
        "plt.show()\n",
        "\n",
        "fraudulent_percentage = (class_counts[1] / n_observations) * 100\n",
        "print(f\"\\nPercentage of fraudulent transactions: {fraudulent_percentage:.2f}%\")\n"
      ],
      "metadata": {
        "colab": {
          "base_uri": "https://localhost:8080/",
          "height": 703
        },
        "id": "lf6hHIZiFxGN",
        "outputId": "fc577183-b124-457f-8059-8f51e5947f48"
      },
      "execution_count": null,
      "outputs": [
        {
          "output_type": "stream",
          "name": "stdout",
          "text": [
            "\n",
            "Table of counts for the 'Class' variable:\n",
            "Class\n",
            "0    9962\n",
            "1      38\n",
            "Name: count, dtype: int64\n"
          ]
        },
        {
          "output_type": "display_data",
          "data": {
            "text/plain": [
              "<Figure size 800x600 with 1 Axes>"
            ],
            "image/png": "[encoded data removed]"
          },
          "metadata": {}
        },
        {
          "output_type": "stream",
          "name": "stdout",
          "text": [
            "\n",
            "Percentage of fraudulent transactions: 0.38%\n"
          ]
        }
      ]
    },
    {
      "cell_type": "markdown",
      "source": [
        "Question 3: Drop Time and make a decision tree classifier to predict fraud. Print a confusion table and compute the accuracy. This is a serious class imbalance problem: The minority class is so small that essentially predicting 0's for all cases will achieve an extremely high accuracy. There are over-sampling techniques to deal with this issue, but we don't have time to cover them in class."
      ],
      "metadata": {
        "id": "RF70x2g_F6Ng"
      }
    },
    {
      "cell_type": "code",
      "source": [
        "#Code help from gemini\n",
        "\n",
        "import pandas as pd\n",
        "from sklearn.model_selection import train_test_split\n",
        "from sklearn.tree import DecisionTreeClassifier\n",
        "from sklearn.metrics import confusion_matrix, accuracy_score\n",
        "\n",
        "# Drop the 'Time' column\n",
        "df = df.drop('Time', axis=1)\n",
        "\n",
        "# Define features (X) and target (y)\n",
        "X = df.drop('Class', axis=1)\n",
        "y = df['Class']\n",
        "\n",
        "# Split data into training and testing sets\n",
        "X_train, X_test, y_train, y_test = train_test_split(X, y, test_size=0.2, random_state=42)\n",
        "\n",
        "# Initialize and train a Decision Tree Classifier\n",
        "clf = DecisionTreeClassifier(random_state=42)\n",
        "clf.fit(X_train, y_train)\n",
        "\n",
        "# Make predictions on the test set\n",
        "y_pred = clf.predict(X_test)\n",
        "\n",
        "# Evaluate the model\n",
        "conf_matrix = confusion_matrix(y_test, y_pred)\n",
        "accuracy = accuracy_score(y_test, y_pred)\n",
        "\n",
        "print(\"\\nConfusion Matrix:\")\n",
        "print(conf_matrix)\n",
        "print(f\"\\nAccuracy: {accuracy}\")\n"
      ],
      "metadata": {
        "colab": {
          "base_uri": "https://localhost:8080/"
        },
        "id": "RN5Pif-dGcYd",
        "outputId": "8d07a358-0d2f-49a1-f05b-eaae10d10df7"
      },
      "execution_count": null,
      "outputs": [
        {
          "output_type": "stream",
          "name": "stdout",
          "text": [
            "\n",
            "Confusion Matrix:\n",
            "[[1987    1]\n",
            " [   2   10]]\n",
            "\n",
            "Accuracy: 0.9985\n"
          ]
        }
      ]
    },
    {
      "cell_type": "markdown",
      "source": [
        "Question 4: Imagine that you block every transaction in the test set labelled as fraudulent. How much money is (1) saved that should be saved, (2) lost to fraud anyway, (3) withheld in error from customers? Does implementing this anti-fraud system seem like a good idea, or not? Why?"
      ],
      "metadata": {
        "id": "bIJldVZ_Gq1O"
      }
    },
    {
      "source": [
        "#Code help from gemini\n",
        "# Calculate true positives, true negatives, false positives, and false negatives\n",
        "true_positives = ((y_test == 1) & (y_pred == 1)).sum()\n",
        "true_negatives = ((y_test == 0) & (y_pred == 0)).sum()\n",
        "false_positives = ((y_test == 0) & (y_pred == 1)).sum()\n",
        "false_negatives = ((y_test == 1) & (y_pred == 0)).sum()\n",
        "\n",
        "# Money saved that should be saved\n",
        "# Use the index of y_test to access the corresponding rows in df\n",
        "saved_money = df.loc[y_test[y_test == 1].index, 'Amount'].sum()\n",
        "\n",
        "# Money lost to fraud\n",
        "lost_money = df.loc[y_test[(y_test == 1) & (y_pred == 0)].index, 'Amount'].sum()\n",
        "\n",
        "# Money withheld in error\n",
        "withheld_money = df.loc[y_test[(y_test == 0) & (y_pred == 1)].index, 'Amount'].sum()\n",
        "\n",
        "print(\"Money saved that should be saved:\", saved_money)\n",
        "print(\"Money lost to fraud:\", lost_money)\n",
        "print(\"Money withheld in error from customers:\", withheld_money)\n",
        "\n"
      ],
      "cell_type": "code",
      "metadata": {
        "colab": {
          "base_uri": "https://localhost:8080/"
        },
        "id": "QdEo9ObEiDys",
        "outputId": "0a1aa507-5004-47c5-f67d-95777566e69c"
      },
      "execution_count": null,
      "outputs": [
        {
          "output_type": "stream",
          "name": "stdout",
          "text": [
            "Money saved that should be saved: 776.66\n",
            "Money lost to fraud: 530.0\n",
            "Money withheld in error from customers: 39.0\n"
          ]
        }
      ]
    },
    {
      "cell_type": "markdown",
      "source": [
        "I'd say since the amount of money saved is close to the sum of the money lost and the money witheld. Blocking every transaction labeled as fraud might not be totally efficient, but could be somewhat useful."
      ],
      "metadata": {
        "id": "Gw271JLsiTvp"
      }
    },
    {
      "cell_type": "markdown",
      "source": [
        "Question 5: Instead of predicting fraud, predict loss: Multiple the Class variable times the Amount variable, and call it Loss. Predict it using a decision tree regressor (making sure to drop Class, Time, and Loss from the features/covariates/predictors). What  R2  and RMSE do you get? Make a scatterplot of the predicted values on the test group versus the actual test values. Do you notice any interesting patterns? How could you use this algorithm to decide which transactions to block, and why?"
      ],
      "metadata": {
        "id": "9GAzBgBxjVmK"
      }
    },
    {
      "cell_type": "code",
      "source": [
        "#Code help from gemini\n",
        "\n",
        "from sklearn.tree import DecisionTreeRegressor\n",
        "from sklearn.metrics import r2_score, mean_squared_error\n",
        "import numpy as np\n",
        "\n",
        "# Create the 'Loss' column\n",
        "df['Loss'] = df['Class'] * df['Amount']\n",
        "\n",
        "# Define features (X) and target (y) for loss prediction\n",
        "X = df.drop(['Class', 'Loss'], axis=1)\n",
        "y = df['Loss']\n",
        "\n",
        "# Split data into training and testing sets\n",
        "X_train, X_test, y_train, y_test = train_test_split(X, y, test_size=0.2, random_state=42)\n",
        "\n",
        "# Initialize and train a Decision Tree Regressor\n",
        "regressor = DecisionTreeRegressor(random_state=42)\n",
        "regressor.fit(X_train, y_train)\n",
        "\n",
        "# Make predictions on the test set\n",
        "y_pred = regressor.predict(X_test)\n",
        "\n",
        "# Evaluate the model\n",
        "r2 = r2_score(y_test, y_pred)\n",
        "rmse = np.sqrt(mean_squared_error(y_test, y_pred))\n",
        "\n",
        "print(f\"R-squared: {r2}\")\n",
        "print(f\"RMSE: {rmse}\")\n",
        "\n",
        "# Scatterplot of predicted vs. actual values\n",
        "plt.figure(figsize=(8, 6))\n",
        "plt.scatter(y_test, y_pred)\n",
        "plt.xlabel(\"Actual Loss\")\n",
        "plt.ylabel(\"Predicted Loss\")\n",
        "plt.title(\"Actual vs. Predicted Loss\")\n",
        "plt.plot([min(y_test), max(y_test)], [min(y_test), max(y_test)], color='red') # Add a diagonal line\n",
        "plt.show()\n",
        "\n"
      ],
      "metadata": {
        "colab": {
          "base_uri": "https://localhost:8080/",
          "height": 599
        },
        "id": "zald5zFQjdz2",
        "outputId": "d7cdb9f6-caae-4390-faae-78ca48db4501"
      },
      "execution_count": null,
      "outputs": [
        {
          "output_type": "stream",
          "name": "stdout",
          "text": [
            "R-squared: 0.030768675535162382\n",
            "RMSE: 12.361341612058135\n"
          ]
        },
        {
          "output_type": "display_data",
          "data": {
            "text/plain": [
              "<Figure size 800x600 with 1 Axes>"
            ],
            "image/png": "[encoded data removed]"
          },
          "metadata": {}
        }
      ]
    },
    {
      "cell_type": "markdown",
      "source": [
        "From the scatterplot and R squared, it deosn't look like this model is particularly useful and no patterns are really evident."
      ],
      "metadata": {
        "id": "O_dLOvaplMHG"
      }
    },
    {
      "cell_type": "markdown",
      "metadata": {
        "vscode": {
          "languageId": "plaintext"
        },
        "id": "n-YjQ45zzy4N"
      },
      "source": [
        "**Q6.** Show that any decision tree is equivalent to a linear regression on a set of dummy variables that represent the optimal splits in the tree.\n",
        "\n",
        "Hint: You can think of CART as partitioning the feature space into a set of sets $\\{S_1, S_2, ..., S_K\\}$, and then predicting the average for all of the observations in each set $S_k$, $m_k$:\n",
        "$$\n",
        "\\hat{y}(x) = \\sum_{k=1}^K \\mathbb{I}\\{ x \\text{ is in } S_k \\} m_k\n",
        "$$\n",
        "where $\\mathbb{I} \\{ P(x,k)\\}$ takes the value 1 if the proposition $P(x,k)$ is true and 0 otherwise. Now, doesn't that look like least-squares regression on a set of dummy/one-hot-encoded variables?\n",
        "\n",
        "Conversely, can any linear regression be represented by a tree?"
      ]
    }
  ],
  "metadata": {
    "kernelspec": {
      "display_name": "base",
      "language": "python",
      "name": "python3"
    },
    "language_info": {
      "codemirror_mode": {
        "name": "ipython",
        "version": 3
      },
      "file_extension": ".py",
      "mimetype": "text/x-python",
      "name": "python",
      "nbconvert_exporter": "python",
      "pygments_lexer": "ipython3",
      "version": "3.12.2"
    },
    "colab": {
      "provenance": [],
      "include_colab_link": true
    }
  },
  "nbformat": 4,
  "nbformat_minor": 0
}
{
  "cells": [
    {
      "cell_type": "markdown",
      "id": "e0c7b14a-e5aa-4abc-b48b-b8a9d20dacac",
      "metadata": {
        "id": "e0c7b14a-e5aa-4abc-b48b-b8a9d20dacac"
      },
      "source": [
        "# Assignment: Linear Models\n",
        "## Do three questions.\n",
        "### `! git clone https://github.com/ds4e/linearModels`"
      ]
    },
    {
      "cell_type": "markdown",
      "id": "bf4826b0",
      "metadata": {
        "id": "bf4826b0"
      },
      "source": [
        "**Q1.** Please answer the following questions in your own words.\n",
        "\n",
        "1. What makes a model \"linear\"? \"Linear\" in what?\n",
        "2. How do you interpret the coefficient for a dummy/one-hot-encoded variable? (This is a trick question, and the trick involves how you handle the intercept of the model.)\n",
        "3. Can linear regression be used for classification? Explain why, or why not.\n",
        "4. What are signs that your linear model is over-fitting?\n",
        "5. Clearly explain multi-colinearity using the two-stage least squares technique.\n",
        "6. How can you incorporate nonlinear relationships between your target/response/dependent/outcome variable $y$ and your features/control/response/independent variables $x$ into your analysis?\n",
        "7. What is the interpretation of the intercept? A slope coefficient for a variable? The coefficient for a dummy/one-hot-encoded variable?"
      ]
    },
    {
      "cell_type": "markdown",
      "source": [
        "Question 1:\n",
        "\n",
        "What makes a model linear is the facet of the data being composed in matrix form. Within this form, the dependent variable or variables is used to make predictions or insight upon the y-axis. It comes in an equation form as weighted dependent variables sums plus a constant term equals the independent variable prediction.\n",
        "\n",
        "Question 2:\n",
        "\n",
        "A dummy encoded variable can be interpreted as a catergorical or descriptive variable that is encoded numerically in so that the data can be used in the model.\n",
        "\n",
        "Question 3:\n",
        "\n",
        "No, usually classification models are with logistic regression. If the outcome is binary, between 0 and 1, linear regression could possibly be used for classification.\n",
        "\n",
        "Question 4:\n",
        "\n",
        "We can tell that the model is overfitting when the model doesn't handle a test data set well, but has very high accuracy on the training data set.\n",
        "\n",
        "Question 5:\n",
        "\n",
        "Multicolinearity is when two dependent variables are highly correlated, skewing the coefficients and the regression equation. With two-stage least squares, you have to find an instrument variable that affects one of the two variables that have multicolinearity. Then you regress the affecting variable on the instrument variable to create predicted values. Then with these predicted values, you can place them back in to the original regression equation replacing the original variable and removing the multicolinearity.\n",
        "\n",
        "Question 6:\n",
        "\n",
        "To incorporate non linear relationships, you can perform multiple types of transformations to the variable. Transformations such as polynomial terms, log, or interactions depending on the situation and relationship to y.\n",
        "\n",
        "Question 7:\n",
        "\n",
        "The intercept is the expected value of Y when all of the x values are 0. The slope coefficients represent the change in Y per unit change in X. Dummy coefficients represent the effect or change that the Y variable will have when it belongs to one of the dummy encoded groups.\n",
        "\n",
        "\n",
        "\n"
      ],
      "metadata": {
        "id": "3YGMU1d0q09J"
      },
      "id": "3YGMU1d0q09J"
    },
    {
      "cell_type": "markdown",
      "id": "25bf83c6-ff44-42d6-9b33-8be1b945860d",
      "metadata": {
        "id": "25bf83c6-ff44-42d6-9b33-8be1b945860d"
      },
      "source": [
        "**Q2.** Load `./data/Q1_clean.csv`. The data include\n",
        "\n",
        "- `Price` per night\n",
        "- `Review Scores Rating`: The average rating for the property\n",
        "- `Neighbourhood `: The bourough of NYC. Note the space, or rename the variable.\n",
        "- `Property Type`: The kind of dwelling\n",
        "- `Room Type`: The kind of space being rented\n",
        "\n",
        "1. Compute the average prices and scores by `Neighbourhood `; which bourough is the most expensive on average? Create a kernel density plot of price and log price, grouping by `Neighbourhood `.\n",
        "2. Regress price on `Neighbourhood ` by creating the appropriate dummy/one-hot-encoded variables, without an intercept in the linear model and using all the data. Compare the coefficients in the regression to the table from part 1. What pattern do you see? What are the coefficients in a regression of a continuous variable on one categorical variable?\n",
        "3. Repeat part 2, but leave an intercept in the linear model. How do you have to handle the creation of the dummies differently? What is the intercept? Interpret the coefficients. How can I get the coefficients in part 2 from these new coefficients?\n",
        "4. Split the sample 80/20 into a training and a test set. Run a regression of `Price` on `Review Scores Rating` and `Neighbourhood `. What is the $R^2$ and RMSE on the test set? What is the coefficient on `Review Scores Rating`? What is the most expensive kind of property you can rent?\n",
        "5. Split the sample 80/20 into a training and a test set. Run a regression of `Price` on `Review Scores Rating` and `Neighbourhood ` and `Property Type`. What is the $R^2$ and RMSE on the test set? What is the coefficient on `Review Scores Rating`? What is the most expensive kind of property you can rent?\n",
        "6. What does the coefficient on `Review Scores Rating` mean if it changes from part 4 to 5? Hint: Think about how multilple linear regression works.\n",
        "7. (Optional) We've included `Neighborhood ` and `Property Type` separately in the model. How do you interact them, so you can have \"A bedroom in Queens\" or \"A townhouse in Manhattan\". Split the sample 80/20 into a training and a test set and run a regression including that kind of \"property type X neighborhood\" dummy, plus `Review Scores Rating`. How does the slope coefficient for `Review Scores Rating`, the $R^2$, and the RMSE change? Do they increase significantly compares to part 5? Are the coefficients in this regression just the sum of the coefficients for `Neighbourhood ` and `Property Type` from 5? What is the most expensive kind of property you can rent?"
      ]
    },
    {
      "cell_type": "markdown",
      "id": "95f22300-0180-4ed2-be8f-ed56cf4cd36b",
      "metadata": {
        "id": "95f22300-0180-4ed2-be8f-ed56cf4cd36b"
      },
      "source": [
        "**Q3.** This question is a case study for linear models. The data are about car prices. In particular, they include:\n",
        "\n",
        "  - `Price`, `Color`, `Seating_Capacity`\n",
        "  - `Body_Type`: crossover, hatchback, muv, sedan, suv\n",
        "  - `Make`, `Make_Year`: The brand of car and year produced\n",
        "  - `Mileage_Run`: The number of miles on the odometer\n",
        "  - `Fuel_Type`: Diesel or gasoline/petrol\n",
        "  - `Transmission`, `Transmission_Type`:  speeds and automatic/manual\n",
        "\n",
        "  1. Load `cars_hw.csv`. These data were really dirty, and I've already cleaned them a significant amount in terms of missing values and other issues, but some issues remain (e.g. outliers, badly scaled variables that require a log or arcsinh transformation). Clean the data however you think is most appropriate.\n",
        "  2. Summarize the `Price` variable and create a kernel density plot. Use `.groupby()` and `.describe()` to summarize prices by brand (`Make`). Make a grouped kernel density plot by `Make`. Which car brands are the most expensive? What do prices look like in general?\n",
        "  3. Split the data into an 80% training set and a 20% testing set.\n",
        "  4. Make a model where you regress price on the numeric variables alone; what is the $R^2$ and `RMSE` on the training set and test set? Make a second model where, for the categorical variables, you regress price on a model comprised of one-hot encoded regressors/features alone (you can use `pd.get_dummies()`; be careful of the dummy variable trap); what is the $R^2$ and `RMSE` on the test set? Which model performs better on the test set? Make a third model that combines all the regressors from the previous two; what is the $R^2$ and `RMSE` on the test set? Does the joint model perform better or worse, and by home much?\n",
        "  5. Use the `PolynomialFeatures` function from `sklearn` to expand the set of numerical variables you're using in the regression. As you increase the degree of the expansion, how do the $R^2$ and `RMSE` change? At what point does $R^2$ go negative on the test set? For your best model with expanded features, what is the $R^2$ and `RMSE`? How does it compare to your best model from part 4?\n",
        "  6. For your best model so far, determine the predicted values for the test data and plot them against the true values. Do the predicted values and true values roughly line up along the diagonal, or not? Compute the residuals/errors for the test data and create a kernel density plot. Do the residuals look roughly bell-shaped around zero? Evaluate the strengths and weaknesses of your model."
      ]
    },
    {
      "cell_type": "markdown",
      "id": "aedcd486",
      "metadata": {
        "id": "aedcd486"
      },
      "source": [
        "**Q4.** This question refers to the `heart_hw.csv` data. It contains three variables:\n",
        "\n",
        "  - `y`: Whether the individual survived for three years, coded 0 for death and 1 for survival\n",
        "  - `age`: Patient's age\n",
        "  - `transplant`: `control` for not receiving a transplant and `treatment` for receiving a transplant\n",
        "\n",
        "Since a heart transplant is a dangerous operation and even people who successfully get heart transplants might suffer later complications, we want to look at whether a group of transplant recipients tends to survive longer than a comparison group who does not get the procedure.\n",
        "\n",
        "1. Compute (a) the proportion of people who survive in the control group who do not receive a transplant, and (b) the difference between the proportion of people who survive in the treatment group and the proportion of people who survive in the control group. In a randomized controlled trial, this is called the **average treatment effect**.\n",
        "2. Regress `y` on `transplant` using a linear model with a constant. How does the constant/intercept of the regression and the coefficient on transplant compare to your answers from part 1? Explain the relationship clearly.\n",
        "3. We'd like to include `age` in the regression, since it's reasonable to expect that older patients are less likely to survive an extensive surgery like a heart transplant. Regress `y` on a constant, transplant, and age. How does the intercept change?\n",
        "4. Build a more flexible model that allows for non-linear age effects and interactions between age and treatment. Use a train-test split to validate your model. Estimate your best model, predict the survival probability by age, and plot your results conditional on receiving a transplant and not. Describe what you see.\n",
        "5. Imagine someone suggests using these kinds of models to select who receives organ transplants; perhaps the CDC or NIH starts using a scoring algorithm to decide who is contacted about a potential organ. What are your concerns about how it is built and how it is deployed?"
      ]
    },
    {
      "cell_type": "markdown",
      "source": [
        "Question 1:"
      ],
      "metadata": {
        "id": "Fq4NUA-Kxv4T"
      },
      "id": "Fq4NUA-Kxv4T"
    },
    {
      "cell_type": "code",
      "source": [
        "#Code help from gemini\n",
        "import pandas as pd\n",
        "from google.colab import drive\n",
        "drive.mount('/content/drive')\n",
        "\n",
        "# Load the heart.csv file from your Google Drive\n",
        "df = pd.read_csv('/content/drive/My Drive/DS 3001/heart_hw.csv')  # Replace with the correct path\n",
        "\n",
        "# Compute the proportion of people who survive in the control group\n",
        "control_survival_rate = df[df['transplant'] == 'control']['y'].mean()\n",
        "\n",
        "# Compute the proportion of people who survive in the treatment group\n",
        "treatment_survival_rate = df[df['transplant'] == 'treatment']['y'].mean()\n",
        "\n",
        "# Compute the average treatment effect\n",
        "average_treatment_effect = treatment_survival_rate - control_survival_rate\n",
        "\n",
        "print(f\"Proportion of people who survive in the control group: {control_survival_rate}\")\n",
        "print(f\"Average treatment effect: {average_treatment_effect}\")\n"
      ],
      "metadata": {
        "id": "QDYVw-oWxusM",
        "outputId": "4ad279ed-7efc-4a8e-b6dd-59c4a882e0da",
        "colab": {
          "base_uri": "https://localhost:8080/"
        }
      },
      "id": "QDYVw-oWxusM",
      "execution_count": 2,
      "outputs": [
        {
          "output_type": "stream",
          "name": "stdout",
          "text": [
            "Drive already mounted at /content/drive; to attempt to forcibly remount, call drive.mount(\"/content/drive\", force_remount=True).\n",
            "Proportion of people who survive in the control group: 0.11764705882352941\n",
            "Average treatment effect: 0.23017902813299232\n"
          ]
        }
      ]
    },
    {
      "cell_type": "markdown",
      "source": [
        "Question 2:\n",
        "Regress y on transplant using a linear model with a constant. How does the constant/intercept of the regression and the coefficient on transplant compare to your answers from part 1? Explain the relationship clearly."
      ],
      "metadata": {
        "id": "Y7EZ_-RZyrVT"
      },
      "id": "Y7EZ_-RZyrVT"
    },
    {
      "cell_type": "code",
      "source": [
        "#code help from gemini\n",
        "\n",
        "import statsmodels.formula.api as smf\n",
        "\n",
        "# Create a dummy variable for transplant (treatment group is the reference)\n",
        "df['transplant_dummy'] = (df['transplant'] == 'treatment').astype(int)\n",
        "\n",
        "# Fit the linear model\n",
        "model = smf.ols('y ~ transplant_dummy', data=df).fit()\n",
        "\n",
        "# Print the model summary\n",
        "print(model.summary())\n",
        "\n",
        "# Extract the intercept and coefficient\n",
        "intercept = model.params['Intercept']\n",
        "transplant_coefficient = model.params['transplant_dummy']\n",
        "\n",
        "print(f\"\\nIntercept: {intercept}\")\n",
        "print(f\"Coefficient on transplant: {transplant_coefficient}\")\n",
        "\n"
      ],
      "metadata": {
        "id": "bJGKBPYgyqsr",
        "outputId": "2e656415-b73e-4814-de3e-a6b30b1b9717",
        "colab": {
          "base_uri": "https://localhost:8080/"
        }
      },
      "id": "bJGKBPYgyqsr",
      "execution_count": 3,
      "outputs": [
        {
          "output_type": "stream",
          "name": "stdout",
          "text": [
            "                            OLS Regression Results                            \n",
            "==============================================================================\n",
            "Dep. Variable:                      y   R-squared:                       0.059\n",
            "Model:                            OLS   Adj. R-squared:                  0.050\n",
            "Method:                 Least Squares   F-statistic:                     6.354\n",
            "Date:                Tue, 25 Mar 2025   Prob (F-statistic):             0.0133\n",
            "Time:                        19:33:08   Log-Likelihood:                -59.591\n",
            "No. Observations:                 103   AIC:                             123.2\n",
            "Df Residuals:                     101   BIC:                             128.5\n",
            "Df Model:                           1                                         \n",
            "Covariance Type:            nonrobust                                         \n",
            "====================================================================================\n",
            "                       coef    std err          t      P>|t|      [0.025      0.975]\n",
            "------------------------------------------------------------------------------------\n",
            "Intercept            0.1176      0.075      1.574      0.119      -0.031       0.266\n",
            "transplant_dummy     0.2302      0.091      2.521      0.013       0.049       0.411\n",
            "==============================================================================\n",
            "Omnibus:                       22.540   Durbin-Watson:                   1.416\n",
            "Prob(Omnibus):                  0.000   Jarque-Bera (JB):               17.584\n",
            "Skew:                           0.902   Prob(JB):                     0.000152\n",
            "Kurtosis:                       2.080   Cond. No.                         3.24\n",
            "==============================================================================\n",
            "\n",
            "Notes:\n",
            "[1] Standard Errors assume that the covariance matrix of the errors is correctly specified.\n",
            "\n",
            "Intercept: 0.11764705882352948\n",
            "Coefficient on transplant: 0.2301790281329925\n"
          ]
        }
      ]
    },
    {
      "cell_type": "markdown",
      "source": [
        "The intercept and the coefficient are almost the exact same as the answers from question 1. The explanatiaion is that the answers to question 1 are related to the y axis in what the y axis does when all the x's are zero and how much the y axis changes when the x axis changes by one unit."
      ],
      "metadata": {
        "id": "xefa4vAszG01"
      },
      "id": "xefa4vAszG01"
    },
    {
      "cell_type": "markdown",
      "source": [
        "Question 3: We'd like to include age in the regression, since it's reasonable to expect that older patients are less likely to survive an extensive surgery like a heart transplant. Regress y on a constant, transplant, and age. How does the intercept change?"
      ],
      "metadata": {
        "id": "2nnjfYrPztHR"
      },
      "id": "2nnjfYrPztHR"
    },
    {
      "cell_type": "code",
      "source": [
        "#code help from gemini\n",
        "\n",
        "# Create a dummy variable for transplant (treatment group is the reference)\n",
        "df['transplant_dummy'] = (df['transplant'] == 'treatment').astype(int)\n",
        "\n",
        "# Fit the linear model with age\n",
        "model_with_age = smf.ols('y ~ transplant_dummy + age', data=df).fit()\n",
        "\n",
        "# Print the model summary\n",
        "print(model_with_age.summary())\n",
        "\n",
        "# Extract the intercept\n",
        "intercept_with_age = model_with_age.params['Intercept']\n",
        "\n",
        "print(f\"\\nIntercept with age: {intercept_with_age}\")\n",
        "\n",
        "\n"
      ],
      "metadata": {
        "id": "sQK1IjgOz0wx",
        "outputId": "8e0971ce-23bd-4c80-8666-e153d8a72347",
        "colab": {
          "base_uri": "https://localhost:8080/"
        }
      },
      "id": "sQK1IjgOz0wx",
      "execution_count": 4,
      "outputs": [
        {
          "output_type": "stream",
          "name": "stdout",
          "text": [
            "                            OLS Regression Results                            \n",
            "==============================================================================\n",
            "Dep. Variable:                      y   R-squared:                       0.147\n",
            "Model:                            OLS   Adj. R-squared:                  0.130\n",
            "Method:                 Least Squares   F-statistic:                     8.602\n",
            "Date:                Tue, 25 Mar 2025   Prob (F-statistic):           0.000357\n",
            "Time:                        19:37:43   Log-Likelihood:                -54.558\n",
            "No. Observations:                 103   AIC:                             115.1\n",
            "Df Residuals:                     100   BIC:                             123.0\n",
            "Df Model:                           2                                         \n",
            "Covariance Type:            nonrobust                                         \n",
            "====================================================================================\n",
            "                       coef    std err          t      P>|t|      [0.025      0.975]\n",
            "------------------------------------------------------------------------------------\n",
            "Intercept            0.7020      0.196      3.583      0.001       0.313       1.091\n",
            "transplant_dummy     0.2647      0.088      3.006      0.003       0.090       0.439\n",
            "age                 -0.0136      0.004     -3.204      0.002      -0.022      -0.005\n",
            "==============================================================================\n",
            "Omnibus:                       14.464   Durbin-Watson:                   1.370\n",
            "Prob(Omnibus):                  0.001   Jarque-Bera (JB):               12.288\n",
            "Skew:                           0.753   Prob(JB):                      0.00215\n",
            "Kurtosis:                       2.227   Cond. No.                         219.\n",
            "==============================================================================\n",
            "\n",
            "Notes:\n",
            "[1] Standard Errors assume that the covariance matrix of the errors is correctly specified.\n",
            "\n",
            "Intercept with age: 0.7019569721740962\n"
          ]
        }
      ]
    },
    {
      "cell_type": "markdown",
      "source": [
        "The intercept increases significantly."
      ],
      "metadata": {
        "id": "BJRpZCq9zzgs"
      },
      "id": "BJRpZCq9zzgs"
    },
    {
      "cell_type": "markdown",
      "source": [
        "Question 4:\n",
        "\n",
        "Build a more flexible model that allows for non-linear age effects and interactions between age and treatment. Use a train-test split to validate your model. Estimate your best model, predict the survival probability by age, and plot your results conditional on receiving a transplant and not. Describe what you see."
      ],
      "metadata": {
        "id": "cBrQE6J40D4x"
      },
      "id": "cBrQE6J40D4x"
    },
    {
      "cell_type": "code",
      "source": [
        "#code help from gemini\n",
        "\n",
        "import pandas as pd\n",
        "import statsmodels.formula.api as smf\n",
        "from sklearn.model_selection import train_test_split\n",
        "import matplotlib.pyplot as plt\n",
        "\n",
        "\n",
        "# Create a dummy variable for transplant (treatment group is the reference)\n",
        "df['transplant_dummy'] = (df['transplant'] == 'treatment').astype(int)\n",
        "\n",
        "# Split the data into training and testing sets\n",
        "X = df[['age', 'transplant_dummy']]\n",
        "y = df['y']\n",
        "X_train, X_test, y_train, y_test = train_test_split(X, y, test_size=0.2, random_state=42)\n",
        "\n",
        "# Build a more flexible model with non-linear age effects and interactions\n",
        "# We can include polynomial terms for age and an interaction term between age and transplant\n",
        "model_flexible = smf.ols('y ~ transplant_dummy + age + I(age**2) + transplant_dummy*age', data=pd.concat([X_train, y_train], axis=1)).fit()\n",
        "\n",
        "# Print the model summary\n",
        "print(model_flexible.summary())\n",
        "\n",
        "\n",
        "# Predict survival probability by age, conditional on transplant\n",
        "age_range = range(df['age'].min(), df['age'].max() + 1)\n",
        "predicted_probs_control = []\n",
        "predicted_probs_treatment = []\n",
        "\n",
        "for age in age_range:\n",
        "  # Predict for control group\n",
        "  predicted_probs_control.append(model_flexible.predict(exog=dict(age=age, transplant_dummy=0)))\n",
        "\n",
        "  # Predict for treatment group\n",
        "  predicted_probs_treatment.append(model_flexible.predict(exog=dict(age=age, transplant_dummy=1)))\n",
        "\n",
        "# Plot the results\n",
        "plt.figure(figsize=(10, 6))\n",
        "plt.plot(age_range, predicted_probs_control, label='Control (No Transplant)')\n",
        "plt.plot(age_range, predicted_probs_treatment, label='Treatment (Transplant)')\n",
        "plt.xlabel('Age')\n",
        "plt.ylabel('Predicted Survival Probability')\n",
        "plt.title('Predicted Survival Probability by Age, Conditional on Transplant')\n",
        "plt.legend()\n",
        "plt.show()\n",
        "\n"
      ],
      "metadata": {
        "id": "mBwyIiSl0M09",
        "outputId": "bfb7977f-b7e3-4930-c305-fdf7fc2fea89",
        "colab": {
          "base_uri": "https://localhost:8080/",
          "height": 1000
        }
      },
      "id": "mBwyIiSl0M09",
      "execution_count": 5,
      "outputs": [
        {
          "output_type": "stream",
          "name": "stdout",
          "text": [
            "                            OLS Regression Results                            \n",
            "==============================================================================\n",
            "Dep. Variable:                      y   R-squared:                       0.156\n",
            "Model:                            OLS   Adj. R-squared:                  0.112\n",
            "Method:                 Least Squares   F-statistic:                     3.563\n",
            "Date:                Tue, 25 Mar 2025   Prob (F-statistic):             0.0101\n",
            "Time:                        19:39:49   Log-Likelihood:                -41.411\n",
            "No. Observations:                  82   AIC:                             92.82\n",
            "Df Residuals:                      77   BIC:                             104.9\n",
            "Df Model:                           4                                         \n",
            "Covariance Type:            nonrobust                                         \n",
            "========================================================================================\n",
            "                           coef    std err          t      P>|t|      [0.025      0.975]\n",
            "----------------------------------------------------------------------------------------\n",
            "Intercept                0.0812      0.461      0.176      0.861      -0.837       0.999\n",
            "transplant_dummy         0.7387      0.443      1.668      0.099      -0.143       1.621\n",
            "age                      0.0125      0.025      0.506      0.614      -0.037       0.062\n",
            "I(age ** 2)             -0.0002      0.000     -0.728      0.469      -0.001       0.000\n",
            "transplant_dummy:age    -0.0122      0.010     -1.222      0.225      -0.032       0.008\n",
            "==============================================================================\n",
            "Omnibus:                       11.172   Durbin-Watson:                   1.806\n",
            "Prob(Omnibus):                  0.004   Jarque-Bera (JB):               12.734\n",
            "Skew:                           0.954   Prob(JB):                      0.00172\n",
            "Kurtosis:                       2.706   Cond. No.                     2.28e+04\n",
            "==============================================================================\n",
            "\n",
            "Notes:\n",
            "[1] Standard Errors assume that the covariance matrix of the errors is correctly specified.\n",
            "[2] The condition number is large, 2.28e+04. This might indicate that there are\n",
            "strong multicollinearity or other numerical problems.\n"
          ]
        },
        {
          "output_type": "display_data",
          "data": {
            "text/plain": [
              "<Figure size 1000x600 with 1 Axes>"
            ],
            "image/png": "[encoded data removed]"
          },
          "metadata": {}
        }
      ]
    },
    {
      "cell_type": "markdown",
      "source": [
        "We see that for most ages that having a transplant increases survival probability, but the probability for no transplant is higher after age 60"
      ],
      "metadata": {
        "id": "mGeBC1Mh0p_E"
      },
      "id": "mGeBC1Mh0p_E"
    },
    {
      "cell_type": "markdown",
      "source": [
        "Question 5:\n",
        "\n",
        "I would say that my concerns for how it is deployed would come from the low R-squared that the model produces. The model only accounts for about 15% of the total variance related to this issue. When dealing in life and death, I would want to see some better predictive ability than this."
      ],
      "metadata": {
        "id": "6eNdzSis1OCm"
      },
      "id": "6eNdzSis1OCm"
    },
    {
      "cell_type": "markdown",
      "id": "7bd15c6b-4c7c-4230-a199-e03e1054ec6a",
      "metadata": {
        "id": "7bd15c6b-4c7c-4230-a199-e03e1054ec6a"
      },
      "source": [
        "**Q5.** This is a question about linear regression. The outcome is whether a defendant is held pre-trial in the Virginia justice system. We would like to understand how that outcome is predicted by characteristics of the defendant, particularly race. Let's be very careful/clear: We aren't saying anyone *should* be held without bond or asserting that people with different demographic variables *should* be more likely to be held, but instead trying to predict whether people with different characteristics *are empirically more likely* to be held without bond, given the available information. This is the first step we would take in investigating whether a system is fair, or how large the disparities are: Does it treat people with similar observable characteristics similarly, or not? We are going to look at a common question: Are Black defendants treated differently from white or Asian ones? (There are Native American defendants, but there are 11 in total, which is such a small number of observations that is difficult to clearly say anything about how this group is treated relative to the others.)\n",
        "\n",
        "The variables in the data are:\n",
        "\n",
        "  - `held_wo_bail`: Whether a defendant is held without bail before trial (Boolean logical)\n",
        "  - `race`, `sex`: Categorical demographic variables\n",
        "  - `is_poor`: Whether the defendant is classified as indigent\n",
        "  - `prior_F`, `prior_M`: The number of prior felony and misdemeanor arrests\n",
        "  - `case_type`: A categorical variable indicating a misdemeanor `M` or felony `F` or infraction `I` or special case `S`\n",
        "  - `age`: Defendant's age\n",
        "  - `bond`, `bond_NA`, `bond_type`: The amount of any bond, whether it is missing, and the type\n",
        "  - `sentence`, `sentence_NA`, `sentence_type`: The length of any sentence, whether it is missing, and the type\n",
        "\n",
        "1. Load the `pretrial_data.csv` data. Notice that there are `nan`s, but the data are relatively clean. Because there are `.nan`s among variables you won't use, you'll want to narrow down your analysis to the relevant variables before dropping or imputing missing values.\n",
        "2. Create a dummy variable indicating that the defendant is Black.\n",
        "3. Regress `held` on `Black`. What is the slope coefficient Interpret the coefficient on the Black dummy variable: How much more likely is a black person to be held without bail? What is the $R^2$ of the model?\n",
        "4. Before doing this question, please think for a few minutes about how to make the process of running the following regressions as efficient as possible, before jumping into writing code. Repeat part 2, for the following specifications, keeping track of the coefficient on the Black dummy variable each time:\n",
        "      - `held` on `Black` and `sex`\n",
        "      - `held` on `Black` and `sex` and `is_poor`\n",
        "      - `held` on `Black` and `sex` and `is_poor` and `prior_F`\n",
        "      - `held` on `Black` and `sex` and `is_poor` and `prior_F` and `case_type`\n",
        "What happens to the coefficient on the Black dummy variable as you include more regressors/features/controls in the regression? Explain your findings.\n",
        "5. Suppose we don't want to see just `Black` and `sex`, but `Black` interacted with `sex`: Are Black men and Black women treated systemically differently from the rest of the population? Implement this in a regression, and explain your findings.\n",
        "6. Imagine someone argued we should use these kinds of models to help a judge or magistrate make bail decisions (you could obviously go back and make this kind of model for the bond and sentence variables, then deploy it on new cases to predict what their bond and sentence values would be). What concerns would you have? Do you think society should be using data-driven and automated tools like that? Explain your concerns clearly."
      ]
    },
    {
      "cell_type": "markdown",
      "source": [
        "Question 1:\n",
        "\n",
        "Load the pretrial_data.csv data. Notice that there are nans, but the data are relatively clean. Because there are .nans among variables you won't use, you'll want to narrow down your analysis to the relevant variables before dropping or imputing missing values."
      ],
      "metadata": {
        "id": "GUj4W2CC3DpV"
      },
      "id": "GUj4W2CC3DpV"
    },
    {
      "cell_type": "code",
      "source": [
        "#code help from gemini\n",
        "import pandas as pd\n",
        "from google.colab import drive\n",
        "import statsmodels.formula.api as smf\n",
        "from sklearn.model_selection import train_test_split\n",
        "import matplotlib.pyplot as plt\n",
        "\n",
        "drive.mount('/content/drive')\n",
        "\n",
        "# Load the pretrial_data.csv file from your Google Drive\n",
        "df = pd.read_csv('/content/drive/My Drive/DS 3001/pretrial_data.csv')  # Replace with the correct path\n",
        "\n",
        "# Select relevant variables\n",
        "df = df[['held_wo_bail', 'race', 'sex', 'is_poor', 'prior_F', 'case_type', 'age']]\n",
        "\n",
        "# Handle missing values (e.g., drop rows with missing values)\n",
        "df = df.dropna()\n",
        "\n"
      ],
      "metadata": {
        "id": "qqe6jTpj3DLR",
        "outputId": "5e337a2c-543c-419e-d0f4-665e9e22d71f",
        "colab": {
          "base_uri": "https://localhost:8080/"
        }
      },
      "id": "qqe6jTpj3DLR",
      "execution_count": 12,
      "outputs": [
        {
          "output_type": "stream",
          "name": "stdout",
          "text": [
            "Drive already mounted at /content/drive; to attempt to forcibly remount, call drive.mount(\"/content/drive\", force_remount=True).\n"
          ]
        }
      ]
    },
    {
      "cell_type": "markdown",
      "source": [
        "Question 2:\n",
        "\n"
      ],
      "metadata": {
        "id": "UP3eo1tp3XjX"
      },
      "id": "UP3eo1tp3XjX"
    },
    {
      "cell_type": "code",
      "source": [
        "# Create a dummy variable indicating that the defendant is Black\n",
        "df['Black'] = (df['race'] == 'B').astype(int)\n",
        "\n",
        "\n",
        "\n",
        "\n",
        "\n"
      ],
      "metadata": {
        "id": "p4P5uegS3a14"
      },
      "id": "p4P5uegS3a14",
      "execution_count": 19,
      "outputs": []
    },
    {
      "cell_type": "markdown",
      "source": [
        "Question 3:\n",
        "\n",
        "Regress held on Black. What is the slope coefficient Interpret the coefficient on the Black dummy variable: How much more likely is a black person to be held without bail? What is the  R2  of the model?"
      ],
      "metadata": {
        "id": "70eoXse13ezI"
      },
      "id": "70eoXse13ezI"
    },
    {
      "cell_type": "code",
      "source": [
        "# Regress held on Black\n",
        "df['held_wo_bail'] = df['held_wo_bail'].astype(int)\n",
        "\n",
        "model = smf.ols('held_wo_bail ~ Black', data=df).fit()\n",
        "\n",
        "# Print the model summary\n",
        "print(model.summary())\n",
        "\n",
        "# Interpret the coefficient on the Black dummy variable\n",
        "black_coefficient = model.params['Black']\n",
        "\n",
        "print(f\"\\nCoefficient on Black: {black_coefficient}\")\n",
        "print(f\"R-squared: {model.rsquared}\")\n",
        "\n",
        "\n"
      ],
      "metadata": {
        "id": "Rz47Rwac3edt",
        "outputId": "a8f33874-4384-4874-87e0-8454c09779f7",
        "colab": {
          "base_uri": "https://localhost:8080/"
        }
      },
      "id": "Rz47Rwac3edt",
      "execution_count": 25,
      "outputs": [
        {
          "output_type": "stream",
          "name": "stdout",
          "text": [
            "                            OLS Regression Results                            \n",
            "==============================================================================\n",
            "Dep. Variable:           held_wo_bail   R-squared:                       0.005\n",
            "Model:                            OLS   Adj. R-squared:                  0.005\n",
            "Method:                 Least Squares   F-statistic:                     118.3\n",
            "Date:                Tue, 25 Mar 2025   Prob (F-statistic):           1.76e-27\n",
            "Time:                        19:57:40   Log-Likelihood:                -12844.\n",
            "No. Observations:               21414   AIC:                         2.569e+04\n",
            "Df Residuals:                   21412   BIC:                         2.571e+04\n",
            "Df Model:                           1                                         \n",
            "Covariance Type:            nonrobust                                         \n",
            "==============================================================================\n",
            "                 coef    std err          t      P>|t|      [0.025      0.975]\n",
            "------------------------------------------------------------------------------\n",
            "Intercept      0.2389      0.004     60.785      0.000       0.231       0.247\n",
            "Black          0.0666      0.006     10.876      0.000       0.055       0.079\n",
            "==============================================================================\n",
            "Omnibus:                     5281.208   Durbin-Watson:                   1.644\n",
            "Prob(Omnibus):                  0.000   Jarque-Bera (JB):             4603.504\n",
            "Skew:                           1.049   Prob(JB):                         0.00\n",
            "Kurtosis:                       2.128   Cond. No.                         2.46\n",
            "==============================================================================\n",
            "\n",
            "Notes:\n",
            "[1] Standard Errors assume that the covariance matrix of the errors is correctly specified.\n",
            "\n",
            "Coefficient on Black: 0.06656125198799939\n",
            "R-squared: 0.005494335529268923\n"
          ]
        }
      ]
    },
    {
      "cell_type": "markdown",
      "source": [
        "A black person is 6% more likely to be held without bail."
      ],
      "metadata": {
        "id": "gTH_aayt4hWr"
      },
      "id": "gTH_aayt4hWr"
    },
    {
      "cell_type": "markdown",
      "source": [
        "Question 4"
      ],
      "metadata": {
        "id": "YL0bhxd844n7"
      },
      "id": "YL0bhxd844n7"
    },
    {
      "cell_type": "code",
      "source": [
        "#Code help with gemini\n",
        "\n",
        "specifications = [\n",
        "    \"held_wo_bail ~ Black + C(sex)\",\n",
        "    \"held_wo_bail ~ Black + C(sex) + is_poor\",\n",
        "    \"held_wo_bail ~ Black + C(sex) + is_poor + prior_F\",\n",
        "    \"held_wo_bail ~ Black + C(sex) + is_poor + prior_F + C(case_type)\"\n",
        "]\n",
        "\n",
        "# Iterate through the specifications and perform the regressions\n",
        "coefficients = []\n",
        "for spec in specifications:\n",
        "    model = smf.ols(spec, data=df).fit()\n",
        "    coefficients.append(model.params['Black'])\n",
        "    print(model.summary())\n",
        "\n",
        "\n",
        "print(\"Coefficients on Black:\")\n",
        "for i, coeff in enumerate(coefficients):\n",
        "    print(f\"Specification {i+1}: {coeff}\")\n",
        "\n",
        "\n"
      ],
      "metadata": {
        "id": "Hb_AtpP045xG",
        "outputId": "d3b92695-0afc-4ced-a7ad-ee3a9ebc2cb0",
        "colab": {
          "base_uri": "https://localhost:8080/"
        }
      },
      "id": "Hb_AtpP045xG",
      "execution_count": 26,
      "outputs": [
        {
          "output_type": "stream",
          "name": "stdout",
          "text": [
            "                            OLS Regression Results                            \n",
            "==============================================================================\n",
            "Dep. Variable:           held_wo_bail   R-squared:                       0.016\n",
            "Model:                            OLS   Adj. R-squared:                  0.016\n",
            "Method:                 Least Squares   F-statistic:                     174.7\n",
            "Date:                Tue, 25 Mar 2025   Prob (F-statistic):           5.39e-76\n",
            "Time:                        20:01:02   Log-Likelihood:                -12730.\n",
            "No. Observations:               21414   AIC:                         2.547e+04\n",
            "Df Residuals:                   21411   BIC:                         2.549e+04\n",
            "Df Model:                           2                                         \n",
            "Covariance Type:            nonrobust                                         \n",
            "===============================================================================\n",
            "                  coef    std err          t      P>|t|      [0.025      0.975]\n",
            "-------------------------------------------------------------------------------\n",
            "Intercept       0.1673      0.006     27.312      0.000       0.155       0.179\n",
            "C(sex)[T.M]     0.1018      0.007     15.162      0.000       0.089       0.115\n",
            "Black           0.0612      0.006     10.029      0.000       0.049       0.073\n",
            "==============================================================================\n",
            "Omnibus:                     5038.042   Durbin-Watson:                   1.649\n",
            "Prob(Omnibus):                  0.000   Jarque-Bera (JB):             4450.812\n",
            "Skew:                           1.031   Prob(JB):                         0.00\n",
            "Kurtosis:                       2.143   Cond. No.                         3.86\n",
            "==============================================================================\n",
            "\n",
            "Notes:\n",
            "[1] Standard Errors assume that the covariance matrix of the errors is correctly specified.\n",
            "                            OLS Regression Results                            \n",
            "==============================================================================\n",
            "Dep. Variable:           held_wo_bail   R-squared:                       0.059\n",
            "Model:                            OLS   Adj. R-squared:                  0.059\n",
            "Method:                 Least Squares   F-statistic:                     447.6\n",
            "Date:                Tue, 25 Mar 2025   Prob (F-statistic):          4.45e-282\n",
            "Time:                        20:01:03   Log-Likelihood:                -12252.\n",
            "No. Observations:               21414   AIC:                         2.451e+04\n",
            "Df Residuals:                   21410   BIC:                         2.454e+04\n",
            "Df Model:                           3                                         \n",
            "Covariance Type:            nonrobust                                         \n",
            "===============================================================================\n",
            "                  coef    std err          t      P>|t|      [0.025      0.975]\n",
            "-------------------------------------------------------------------------------\n",
            "Intercept       0.0787      0.007     11.873      0.000       0.066       0.092\n",
            "C(sex)[T.M]     0.1153      0.007     17.519      0.000       0.102       0.128\n",
            "Black           0.0346      0.006      5.736      0.000       0.023       0.046\n",
            "is_poor         0.1855      0.006     31.264      0.000       0.174       0.197\n",
            "==============================================================================\n",
            "Omnibus:                     4017.219   Durbin-Watson:                   1.701\n",
            "Prob(Omnibus):                  0.000   Jarque-Bera (JB):             3834.379\n",
            "Skew:                           0.961   Prob(JB):                         0.00\n",
            "Kurtosis:                       2.223   Cond. No.                         4.37\n",
            "==============================================================================\n",
            "\n",
            "Notes:\n",
            "[1] Standard Errors assume that the covariance matrix of the errors is correctly specified.\n",
            "                            OLS Regression Results                            \n",
            "==============================================================================\n",
            "Dep. Variable:           held_wo_bail   R-squared:                       0.101\n",
            "Model:                            OLS   Adj. R-squared:                  0.101\n",
            "Method:                 Least Squares   F-statistic:                     601.2\n",
            "Date:                Tue, 25 Mar 2025   Prob (F-statistic):               0.00\n",
            "Time:                        20:01:03   Log-Likelihood:                -11764.\n",
            "No. Observations:               21414   AIC:                         2.354e+04\n",
            "Df Residuals:                   21409   BIC:                         2.358e+04\n",
            "Df Model:                           4                                         \n",
            "Covariance Type:            nonrobust                                         \n",
            "===============================================================================\n",
            "                  coef    std err          t      P>|t|      [0.025      0.975]\n",
            "-------------------------------------------------------------------------------\n",
            "Intercept       0.0675      0.006     10.399      0.000       0.055       0.080\n",
            "C(sex)[T.M]     0.0981      0.006     15.187      0.000       0.085       0.111\n",
            "Black           0.0249      0.006      4.224      0.000       0.013       0.036\n",
            "is_poor         0.1675      0.006     28.745      0.000       0.156       0.179\n",
            "prior_F         0.0262      0.001     31.610      0.000       0.025       0.028\n",
            "==============================================================================\n",
            "Omnibus:                     2351.062   Durbin-Watson:                   1.747\n",
            "Prob(Omnibus):                  0.000   Jarque-Bera (JB):             2950.321\n",
            "Skew:                           0.885   Prob(JB):                         0.00\n",
            "Kurtosis:                       2.586   Cond. No.                         11.6\n",
            "==============================================================================\n",
            "\n",
            "Notes:\n",
            "[1] Standard Errors assume that the covariance matrix of the errors is correctly specified.\n",
            "                            OLS Regression Results                            \n",
            "==============================================================================\n",
            "Dep. Variable:           held_wo_bail   R-squared:                       0.277\n",
            "Model:                            OLS   Adj. R-squared:                  0.277\n",
            "Method:                 Least Squares   F-statistic:                     1174.\n",
            "Date:                Tue, 25 Mar 2025   Prob (F-statistic):               0.00\n",
            "Time:                        20:01:03   Log-Likelihood:                -9425.0\n",
            "No. Observations:               21414   AIC:                         1.887e+04\n",
            "Df Residuals:                   21406   BIC:                         1.893e+04\n",
            "Df Model:                           7                                         \n",
            "Covariance Type:            nonrobust                                         \n",
            "=====================================================================================\n",
            "                        coef    std err          t      P>|t|      [0.025      0.975]\n",
            "-------------------------------------------------------------------------------------\n",
            "Intercept             0.3985      0.008     52.679      0.000       0.384       0.413\n",
            "C(sex)[T.M]           0.0847      0.006     14.625      0.000       0.073       0.096\n",
            "C(case_type)[T.I]    -0.5089      0.154     -3.315      0.001      -0.810      -0.208\n",
            "C(case_type)[T.M]    -0.4215      0.006    -70.847      0.000      -0.433      -0.410\n",
            "C(case_type)[T.S]    -0.1378      0.009    -14.540      0.000      -0.156      -0.119\n",
            "Black                 0.0185      0.005      3.492      0.000       0.008       0.029\n",
            "is_poor               0.0734      0.005     13.635      0.000       0.063       0.084\n",
            "prior_F               0.0164      0.001     21.642      0.000       0.015       0.018\n",
            "==============================================================================\n",
            "Omnibus:                      894.321   Durbin-Watson:                   1.908\n",
            "Prob(Omnibus):                  0.000   Jarque-Bera (JB):             1006.630\n",
            "Skew:                           0.528   Prob(JB):                    2.59e-219\n",
            "Kurtosis:                       2.887   Cond. No.                         227.\n",
            "==============================================================================\n",
            "\n",
            "Notes:\n",
            "[1] Standard Errors assume that the covariance matrix of the errors is correctly specified.\n",
            "Coefficients on Black:\n",
            "Specification 1: 0.061154018280552516\n",
            "Specification 2: 0.03455394771172433\n",
            "Specification 3: 0.024902935172045823\n",
            "Specification 4: 0.018470715934573983\n"
          ]
        }
      ]
    },
    {
      "cell_type": "markdown",
      "source": [
        "The coefficients decrease as you add more variables but the R-squared increases, meaning that the model is accounting for more and more variablity."
      ],
      "metadata": {
        "id": "3-eOphQ85UCl"
      },
      "id": "3-eOphQ85UCl"
    },
    {
      "cell_type": "markdown",
      "source": [
        "Question 5:\n",
        "\n"
      ],
      "metadata": {
        "id": "7dxJBRUW5wdm"
      },
      "id": "7dxJBRUW5wdm"
    },
    {
      "cell_type": "code",
      "source": [
        "#Code help from gemini\n",
        "\n",
        "# Create interaction term between Black and sex\n",
        "df['Black_Male'] = ((df['race'] == 'B') & (df['sex'] == 'M')).astype(int)\n",
        "df['Black_Female'] = ((df['race'] == 'B') & (df['sex'] == 'F')).astype(int)\n",
        "\n",
        "# Regress held on Black interacted with sex\n",
        "model_interaction = smf.ols('held_wo_bail ~ Black_Male + Black_Female', data=df).fit()\n",
        "\n",
        "# Print the model summary\n",
        "print(model_interaction.summary())\n",
        "\n",
        "# Interpret the coefficients on the interaction terms\n",
        "black_male_coefficient = model_interaction.params['Black_Male']\n",
        "black_female_coefficient = model_interaction.params['Black_Female']\n",
        "\n",
        "print(f\"\\nCoefficient on Black Male: {black_male_coefficient}\")\n",
        "print(f\"Coefficient on Black Female: {black_female_coefficient}\")\n",
        "\n"
      ],
      "metadata": {
        "id": "zU9ySNiP54v-",
        "outputId": "cdbeb4a6-8cc8-4c78-8128-ae318936a53d",
        "colab": {
          "base_uri": "https://localhost:8080/"
        }
      },
      "id": "zU9ySNiP54v-",
      "execution_count": 27,
      "outputs": [
        {
          "output_type": "stream",
          "name": "stdout",
          "text": [
            "                            OLS Regression Results                            \n",
            "==============================================================================\n",
            "Dep. Variable:           held_wo_bail   R-squared:                       0.017\n",
            "Model:                            OLS   Adj. R-squared:                  0.017\n",
            "Method:                 Least Squares   F-statistic:                     187.2\n",
            "Date:                Tue, 25 Mar 2025   Prob (F-statistic):           2.62e-81\n",
            "Time:                        20:04:18   Log-Likelihood:                -12718.\n",
            "No. Observations:               21414   AIC:                         2.544e+04\n",
            "Df Residuals:                   21411   BIC:                         2.547e+04\n",
            "Df Model:                           2                                         \n",
            "Covariance Type:            nonrobust                                         \n",
            "================================================================================\n",
            "                   coef    std err          t      P>|t|      [0.025      0.975]\n",
            "--------------------------------------------------------------------------------\n",
            "Intercept        0.2389      0.004     61.144      0.000       0.231       0.247\n",
            "Black_Male       0.1089      0.007     16.407      0.000       0.096       0.122\n",
            "Black_Female    -0.0643      0.010     -6.294      0.000      -0.084      -0.044\n",
            "==============================================================================\n",
            "Omnibus:                     4929.255   Durbin-Watson:                   1.653\n",
            "Prob(Omnibus):                  0.000   Jarque-Bera (JB):             4434.535\n",
            "Skew:                           1.031   Prob(JB):                         0.00\n",
            "Kurtosis:                       2.153   Cond. No.                         3.75\n",
            "==============================================================================\n",
            "\n",
            "Notes:\n",
            "[1] Standard Errors assume that the covariance matrix of the errors is correctly specified.\n",
            "\n",
            "Coefficient on Black Male: 0.10889918533245832\n",
            "Coefficient on Black Female: -0.0642568829545126\n"
          ]
        }
      ]
    },
    {
      "cell_type": "markdown",
      "source": [
        "Yes they are treated much differently, as black males are much more likely to be held without male than females."
      ],
      "metadata": {
        "id": "DL9sXt9K6IJ3"
      },
      "id": "DL9sXt9K6IJ3"
    },
    {
      "cell_type": "markdown",
      "source": [
        "Question 6:\n",
        "\n",
        "I think there are some very real concerns with models like this. It's difficult for models like this to pick up all of the details of a case and account for the human element. I feel that all cases are unique and takes some human judgement. On the other hand, models like this could help magistrates operate without any biases and with more of a uniform bond for the sentences."
      ],
      "metadata": {
        "id": "mH3j-vQh6hHf"
      },
      "id": "mH3j-vQh6hHf"
    },
    {
      "cell_type": "markdown",
      "id": "ca1cfba3",
      "metadata": {
        "vscode": {
          "languageId": "plaintext"
        },
        "id": "ca1cfba3"
      },
      "source": [
        "**Q6.** Let's explore multiple linear regression in a two-variable case, to build more intuition about what is happening.\n",
        "\n",
        "Suppose the model is\n",
        "$$\n",
        "\\hat{y}_i = b_0 + b_1 z_{i1} + b_2 z_{i2}\n",
        "$$\n",
        "Assume that $z_{ij}$ is centered or de-meaned, so that $z_{ij} = x_{ij} - m_j$ where $m_j$ is the mean of variable $j$ and $x_{ij}$ is the original value of variable $j$ for observation $i$. Notice that this implies\n",
        "$$\n",
        "\\dfrac{1}{N} \\sum_{i=1}^N z_{ij} = 0\n",
        "$$\n",
        "which will simplify your calculations below substantially!\n",
        "\n",
        "1. Write down the SSE for this model.\n",
        "2. Take partial derivatives with respect to $b_0$, $b_1$, and $b_2$.\n",
        "3. Verify that the average error is zero and $e \\cdot z =0$ at the optimum, just as in the single linear regression case.\n",
        "4. Show that the optimal intercept is $b_0^* = \\bar{y}$. Eliminate $b_0^*$ from the remaining equations, and focus on $b_1$ and $b_2$.\n",
        "5. Write your results as a matrix equation in the form \"$Ab=C$\". These are called the **normal equations**.\n",
        "6. Divide both sides by $N$ and substitute $z_{ij} = x_{ij} - m_j$ back into your normal equations for $x_{ij}$. What is the matrix $A$? What is the vector $C$? Explain the intuition of your discovery."
      ]
    },
    {
      "cell_type": "markdown",
      "id": "547d5828",
      "metadata": {
        "id": "547d5828"
      },
      "source": [
        "**Q7.** In class, we showed that for the single linear regression model,\n",
        "\\begin{alignat*}{3}\n",
        "a^* &=& \\bar{y} \\\\\n",
        "b^* &=& \\dfrac{\\sum_{i=1}^N(y_i - \\bar{y})(x_i-\\bar{x})}{\\sum_{i=1}^N (x_i-\\bar{x})^2},\n",
        "\\end{alignat*}\n",
        "\n",
        "1. When will $b^*$ be large or small, depending on the relationship between $X$ and $Y$ and the variance of $X$?\n",
        "2. Suppose you have measurement error in $X$ which artificially inflates its variance (e.g. bad data cleaning). We'll model this as saying the \"real\" value of $X$ for observation $i$ is $z_i$, but we observe $x_i = z_i + n_i$, where $n_i$ is the added noise. Does this affect the intercept of the regression? What happens to the $b^*$ coefficient relative to a noise-less model? How will affect your ability to predict? (This phenomenon is called **attenuation**.)\n",
        "3. Suppose the noise $n_i$ is independent of $z_i$ and $y_i$, so that (approximately)\n",
        "$$\n",
        "\\dfrac{1}{N} \\sum_{i=1}^N (y_i - \\bar{y})(n_i - \\bar{n}) =0, \\quad \\dfrac{1}{N} \\sum_{i=1}^N (z_i - \\bar{z})(n_i - \\bar{n}) =0.\n",
        "$$\n",
        "and that the mean of the bias is zero, so that\n",
        "$$\n",
        "\\dfrac{1}{N} \\sum_{i=1}^N n_i = 0.\n",
        "$$\n",
        "In this case, the noise $n_i$ is zero on average and independent of the values of $x_i$ and $y_i$: It's just measurement error or lazy data cleaning.\n",
        "Explain the intuition of your result.\n",
        "\n",
        "4. How does attenuation factor into the cost-benefit analysis of gathering higher quality data or cleaning it more carefully?"
      ]
    },
    {
      "cell_type": "markdown",
      "id": "b67478ac-ad78-4a44-9720-583c71b8da14",
      "metadata": {
        "id": "b67478ac-ad78-4a44-9720-583c71b8da14"
      },
      "source": [
        "**Q8.**\n",
        "1. Find a dataset on a topic you're interested in. Some easy options are data.gov, kaggle.com, and data.world.\n",
        "2. Clean the data and do some exploratory data analysis on key variables that interest you. Pick a particular target/outcome variable and features/predictors.\n",
        "3. Split the sample into an ~80% training set and a ~20% test set.\n",
        "4. Run a few regressions of your target/outcome variable on a variety of features/predictors. Compute the SSE on the test set.\n",
        "5. Which model performed the best, and why?\n",
        "6. What did you learn?"
      ]
    },
    {
      "cell_type": "markdown",
      "id": "fcf48562",
      "metadata": {
        "id": "fcf48562"
      },
      "source": [
        "**Q9.** There is a folder called `heart_failure` which contains reasonably detailed health data on patients and whether they die of congestive heart failure.\n",
        "\n",
        "1. Load the data and perform an 80/20-train/test split.\n",
        "2. Using dummy/one-hot-encoded variables and transformations of the numeric features, build the best model you can. **But**, do not delete code chunks or revise your work substantially as you experiment. Just keep moving forward with your ideas and experiments.\n",
        "3. When you're done, scroll through your notebook. What worked and what didn't? Does your code have intention, or are you randomly experimenting? If you had to do this again, what might you do differently to get to a good model faster?\n"
      ]
    },
    {
      "cell_type": "markdown",
      "id": "0125d03b",
      "metadata": {
        "vscode": {
          "languageId": "plaintext"
        },
        "id": "0125d03b"
      },
      "source": [
        "**Q10.** Let's look at a cousin of Linear Regression, called **kernel regression** or **local constant least squares** or **Nadaraya-Watson Estimator**.\n",
        "\n",
        "We derived the OLS estimator for single linear regression by minimizing\n",
        "$$\n",
        "SSE(b_0, b_1) = \\frac{1}{N}\\sum_{i=1}^N (y_i - b_0 - b_1 x_i)^2\n",
        "$$\n",
        "with solution\n",
        "$$\n",
        "\\hat{b}_0 = \\bar{y} - \\hat{b}_1 \\bar{x}, \\quad \\hat{b}_1 = \\dfrac{\\frac{1}{N} \\sum_{i=1}^N (x_i-\\bar{x})(y_i - \\bar{y})}{s_x^2}.\n",
        "$$\n",
        "\n",
        "When you step back and think about it, this is a bit weird: The algorithm is computing sample means, variances, and covariances, and using those to create a predictive model. The data themselves arguably vanish from the solution. This is elegant, this is strange.\n",
        "\n",
        "Instead, let $k(z)$ be a kernel function, such as the Gaussian\n",
        "$$\n",
        "k(z) = \\frac{1}{\\sqrt{2\\pi}} e^{-z^2/2}\n",
        "$$\n",
        "or uniform\n",
        "$$\n",
        "k(z) = \\begin{cases}\n",
        "1/2, & |z| \\le \\frac{1}{2}\\\\\n",
        "0, & \\text{otherwise.}\n",
        "\\end{cases}\n",
        "$$\n",
        "We'll instead minimize, or each predictor value $x$,\n",
        "$$\n",
        "SSE(\\hat{y}(x)) = \\dfrac{1}{N} \\sum_{i=1}^N \\left\\lbrace y_i - \\hat{y}(x)\\right\\rbrace^2 \\dfrac{1}{h} k \\left( \\dfrac{x-x_i}{h} \\right).\n",
        "$$\n",
        "\n",
        "1. Show that the optimal predictor is\n",
        "$$\n",
        "\\hat{y}(x) = \\dfrac{ \\frac{1}{Nh} \\sum_{i=1}^N  y_i k \\left( \\dfrac{x-x_i}{h} \\right) }{\\frac{1}{Nh} \\sum_{i=1}^N k \\left(  \\dfrac{x-x_i}{h} \\right)}\n",
        "$$\n",
        "This has many names, but let's call it the local constant least squares (LCLS) estimator, as opposed to ordinary least squares (OLS).\n",
        "\n",
        "2. Compare and contrast LCLS with both OLS and $k$-Nearest Neighbor as a regression algorithm.\n",
        "\n",
        "3. Write a function or class that implements the LCLS estimator for a single predictor variable $x$. For a default bandwidth $h$, you can use the maximum of the Silverman plug-ins for estimating kernel densities for $X$ and $Y$:\n",
        "$$\n",
        "h_y = 1.06 \\times s_y^{-1/5}, \\quad h_x = 1.06 \\times s_x^{-1/5},\n",
        "$$\n",
        "$$\n",
        "h = \\max \\{ h_y, h_x \\}.\n",
        "$$\n",
        "For the kernel, you can hard-code the uniform, Gaussian, or Epanechnikov, or make it a parameter the user can adjust with a default choice.\n",
        "\n",
        "4. For one of the datasets available for the homework, use your LCLS estimator from part 3 to predict values $\\hat{y}(x_i)$ for each datapoint $x_i$. Plot your estimator $\\hat{y}$ as a line over a scatterplot of the data $\\{(x_i,y_i)\\}_{i=1}^N$. Tune the bandwidth until you\n",
        "\n",
        "5. Conceptually, how would you extend this analysis to a vector of predictors, $x = (x_1, ..., x_L)$ instead of just one explanatory variable $x$?\n"
      ]
    }
  ],
  "metadata": {
    "colab": {
      "provenance": [],
      "toc_visible": true
    },
    "kernelspec": {
      "display_name": "Python 3 (ipykernel)",
      "language": "python",
      "name": "python3"
    },
    "language_info": {
      "codemirror_mode": {
        "name": "ipython",
        "version": 3
      },
      "file_extension": ".py",
      "mimetype": "text/x-python",
      "name": "python",
      "nbconvert_exporter": "python",
      "pygments_lexer": "ipython3",
      "version": "3.12.2"
    }
  },
  "nbformat": 4,
  "nbformat_minor": 5
}